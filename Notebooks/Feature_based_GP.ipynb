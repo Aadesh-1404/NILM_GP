{
 "cells": [
  {
   "cell_type": "code",
   "execution_count": 1,
   "metadata": {},
   "outputs": [],
   "source": [
    "import os\n",
    "os.chdir(\"../\")\n",
    "os.environ[\"CUDA_VISIBLE_DEVICES\"] = \"0\""
   ]
  },
  {
   "cell_type": "code",
   "execution_count": 2,
   "metadata": {},
   "outputs": [],
   "source": [
    "import torch\n",
    "from gpytorch.kernels import RBFKernel, ScaleKernel, PeriodicKernel, MaternKernel, CosineKernel, LinearKernel\n",
    "from skgpytorch.models import SVGPRegressor, SGPRegressor\n",
    "from scipy.stats import kurtosis,skew"
   ]
  },
  {
   "cell_type": "code",
   "execution_count": 3,
   "metadata": {},
   "outputs": [],
   "source": [
    "import jax.numpy as jnp\n",
    "import pandas as pd\n",
    "from sklearn.preprocessing import StandardScaler\n",
    "import matplotlib.pyplot as plt\n",
    "import seaborn as sns\n",
    "# from utilities.fits import fit\n",
    "import tensorflow_probability.substrates.jax as tfp\n",
    "dist = tfp.distributions\n",
    "import pandas as pd\n",
    "import jax.numpy as jnp\n",
    "from datetime import datetime\n",
    "from sklearn.preprocessing import StandardScaler\n",
    "from gpytorch.constraints import GreaterThan\n",
    "from skgpytorch.metrics import mean_squared_error, negative_log_predictive_density\n",
    "import time\n",
    "import numpy as np\n",
    "\n",
    "# from datasets.dataset_load import dataset_loader\n",
    "# from utilities import plot,fits,gmm,errors,predict,preprocess\n",
    "\n",
    "# device = \"cpu\"\n",
    "# torch.set_default_dtype(torch.float32)\n",
    "# torch.set_default_tensor_type(torch.FloatTensor)\n"
   ]
  },
  {
   "cell_type": "code",
   "execution_count": 4,
   "metadata": {},
   "outputs": [],
   "source": [
    "train ={1:{\n",
    "            'start_time': \"2011-04-28\" ,\n",
    "            'end_time': \"2011-05-15\"\n",
    "        }, \n",
    "        3: {\n",
    "        'start_time': \"2011-04-19\" ,\n",
    "        'end_time': \"2011-05-22\"\n",
    "        },\n",
    "            \n",
    "        }\n",
    "\n",
    "test = {  2: {\n",
    "                    'start_time': \"2011-04-21\" ,\n",
    "                    'end_time': \"2011-05-21\"\n",
    "                },\n",
    "                }\n",
    "appliances = [\"Microwave\", \"Refrigerator\",  \"Dish Washer\"] #"
   ]
  },
  {
   "cell_type": "code",
   "execution_count": 5,
   "metadata": {},
   "outputs": [],
   "source": [
    "import pandas as pd\n",
    "import jax.numpy as jnp\n",
    "from datetime import datetime\n",
    "from sklearn.preprocessing import StandardScaler\n",
    "\n",
    "\n",
    "def dataset_load(appliances, train, test=None, bias=False):\n",
    "    x_train = []\n",
    "    y_train = []\n",
    "    x_train_timestamp = []\n",
    "    x_train_mean = []\n",
    "    x_train_std = []\n",
    "    x_train_max_min = []\n",
    "    x_train_main = []\n",
    "    x_train_main_dif = []\n",
    "    x_train_max = []\n",
    "    x_train_min = []\n",
    "    x_train_kurtosis = []\n",
    "    x_train_skew = []\n",
    "    n = 99\n",
    "    m = 9\n",
    "    units_to_pad = n // 2\n",
    "    units_to_pad1 = m//2\n",
    "    scaler_x = StandardScaler()\n",
    "    scaler_y = StandardScaler()\n",
    "    scaler_time = StandardScaler()\n",
    "    scaler_mean = StandardScaler()\n",
    "    scaler_std = StandardScaler()\n",
    "    scaler_max_min = StandardScaler()\n",
    "    scaler_main = StandardScaler()\n",
    "    scaler_diff = StandardScaler()\n",
    "    scaler_max = StandardScaler()\n",
    "    scaler_min = StandardScaler()\n",
    "    scaler_kurtosis = StandardScaler()\n",
    "    scaler_skew = StandardScaler()\n",
    "\n",
    "    ## train\n",
    "    for key, values in train.items():\n",
    "        for app in range(len(appliances)):\n",
    "            df = pd.read_csv(\n",
    "                f\"Data/Building{key}_NILM_data_basic.csv\", usecols=[\"Timestamp\", \"main\", appliances[app]])\n",
    "            df[\"date\"] = pd.to_datetime(df[\"Timestamp\"]).dt.date\n",
    "            startDate = datetime.strptime(values[\"start_time\"], \"%Y-%m-%d\").date()\n",
    "            endDate = datetime.strptime(values[\"end_time\"], \"%Y-%m-%d\").date()\n",
    "\n",
    "            if startDate > endDate:\n",
    "                raise \"Start Date must be smaller than Enddate.\"\n",
    "\n",
    "            df = df[(df[\"date\"] >= startDate) & (df[\"date\"] <= endDate)]\n",
    "            df.dropna(inplace=True)\n",
    "            if app == 0:\n",
    "                x = df[appliances[app]].values\n",
    "            else:\n",
    "                x += df[appliances[app]].values\n",
    "            if appliances[app] == \"Refrigerator\":\n",
    "                y = df[appliances[app]].values\n",
    "        x_train_main.extend(x)\n",
    "        timestamp_train = (pd.to_datetime(df[\"Timestamp\"]).astype(int)/ 10**18).values\n",
    "        x2 = x\n",
    "        x = jnp.pad(x, (units_to_pad, units_to_pad),\n",
    "                    'constant', constant_values=(0, 0))\n",
    "        x = jnp.array([x[i: i + n] for i in range(len(x) - n + 1)])\n",
    "        x_train_mean.extend(jnp.mean(x, axis=1))\n",
    "        x_train_std.extend(jnp.std(x, axis=1))\n",
    "        x1 = jnp.pad(x2, (units_to_pad1, units_to_pad1),\n",
    "                    'constant', constant_values=(0, 0))\n",
    "        x1 = jnp.array([x1[i: i + m] for i in range(len(x1) - m + 1)])\n",
    "        x_train_max_min.extend(jnp.max(x, axis=1)-jnp.min(x,axis=1))\n",
    "        x_train_max.extend(jnp.max(x1, axis = 1))\n",
    "        x_train_min.extend(jnp.min(x1, axis = 1))\n",
    "        x_train_kurtosis.extend(kurtosis(x,axis=1))\n",
    "        x_train_skew.extend(skew(x,axis = 1))\n",
    "        x_train.extend(x)\n",
    "        y_train.extend(y)\n",
    "        x_train_timestamp.extend(torch.tensor(timestamp_train))\n",
    "\n",
    "    x_train = jnp.array(x_train)\n",
    "    y_train = jnp.array(y_train).reshape(-1, 1)\n",
    "    x_train_timestamp = torch.tensor(x_train_timestamp).reshape(-1,1)\n",
    "    x_train_main = jnp.array(x_train_main).reshape(-1,1)\n",
    "    x_train_mean = jnp.array(x_train_mean).reshape(-1,1)\n",
    "    x_train_std =  jnp.array(x_train_std).reshape(-1,1)\n",
    "    x_train_max_min =  jnp.array(x_train_max_min).reshape(-1,1)\n",
    "    x_train_max =  jnp.array(x_train_max).reshape(-1,1)\n",
    "    x_train_skew = jnp.array(x_train_skew).reshape(-1,1)\n",
    "    x_train_min =  jnp.array(x_train_min).reshape(-1,1)\n",
    "    x_train_kurtosis = jnp.array(x_train_kurtosis).reshape(-1,1)\n",
    "\n",
    "    x_train = scaler_x.fit_transform(x_train)\n",
    "    y_train = scaler_y.fit_transform(y_train)\n",
    "    x_train_timestamp = scaler_time.fit_transform(x_train_timestamp)\n",
    "    x_train_main = scaler_main.fit_transform(x_train_main)\n",
    "    x_train_mean = scaler_mean.fit_transform(x_train_mean)\n",
    "    x_train_std = scaler_std.fit_transform(x_train_std)\n",
    "    x_train_max_min = scaler_max_min.fit_transform(x_train_max_min)\n",
    "    x_train_max = scaler_max.fit_transform(x_train_max)\n",
    "    x_train_min = scaler_min.fit_transform(x_train_min)\n",
    "    x_train_kurtosis = scaler_kurtosis.fit_transform(x_train_kurtosis)\n",
    "    x_train_skew = scaler_skew.fit_transform(x_train_skew)\n",
    "\n",
    "    # test\n",
    "    x_test = []\n",
    "    y_test = []\n",
    "    x_test_timestamp = []\n",
    "    x_test_mean = []\n",
    "    x_test_std = []\n",
    "    x_test_max_min = []\n",
    "    x_test_timestamp_true =[]\n",
    "    x_test_main = []\n",
    "    x_test_max = []\n",
    "    x_test_min = []\n",
    "    x_test_kurtosis = []\n",
    "    x_test_skew = []\n",
    "\n",
    "    for key, values in test.items():\n",
    "        for app in range(len(appliances)):\n",
    "            df = pd.read_csv(\n",
    "                f\"Data/Building{key}_NILM_data_basic.csv\", usecols=[\"Timestamp\", \"main\", appliances[app]])\n",
    "            df[\"date\"] = pd.to_datetime(df[\"Timestamp\"]).dt.date\n",
    "            startDate = datetime.strptime(values[\"start_time\"], \"%Y-%m-%d\").date()\n",
    "            endDate = datetime.strptime(values[\"end_time\"], \"%Y-%m-%d\").date()\n",
    "\n",
    "            if startDate > endDate:\n",
    "                raise \"Start Date must be smaller than Enddate.\"\n",
    "\n",
    "            df = df[(df[\"date\"] >= startDate) & (df[\"date\"] <= endDate)]\n",
    "            df.dropna(inplace=True)\n",
    "\n",
    "            if app == 0:\n",
    "                x = df[appliances[app]].values\n",
    "            else:\n",
    "                x += df[appliances[app]].values\n",
    "            if appliances[app] == \"Refrigerator\":\n",
    "                y = df[appliances[app]].values\n",
    "         \n",
    "        if (bias == True):\n",
    "            x =  x + 100*np.ones(x.shape[0])\n",
    "\n",
    "        x_test_main.extend(x)\n",
    "        timestamp_true = df[\"Timestamp\"].values\n",
    "        timestamp = (pd.to_datetime(df[\"Timestamp\"]).astype(int)/ 10**18).values\n",
    "        x2 = x\n",
    "        x = jnp.pad(x, (units_to_pad, units_to_pad),\n",
    "                    'constant', constant_values=(0, 0))\n",
    "        x = jnp.array([x[i: i + n] for i in range(len(x) - n + 1)])\n",
    "\n",
    "        x_test_mean.extend(jnp.mean(x, axis=1))\n",
    "        x_test_std.extend(jnp.std(x, axis=1))\n",
    "        x1 = jnp.pad(x2, (units_to_pad1, units_to_pad1),\n",
    "                    'constant', constant_values=(0, 0))\n",
    "        x1 = jnp.array([x1[i: i + m] for i in range(len(x1) - m + 1)])\n",
    "        x_test_max_min.extend(jnp.max(x, axis=1)-jnp.min(x, axis=1))\n",
    "        x_test_max.extend(jnp.max(x1, axis=1))\n",
    "        x_test_min.extend(jnp.min(x1, axis=1))\n",
    "        x_test.extend(x)\n",
    "        x_test_kurtosis.extend(kurtosis(x,axis=1))\n",
    "        x_test_skew.extend(skew(x,axis=1))\n",
    "        y_test.extend(y)\n",
    "        x_test_timestamp_true.extend(timestamp_true)\n",
    "        x_test_timestamp.extend(timestamp)\n",
    "\n",
    "    x_test = jnp.array(x_test)\n",
    "    y_test = jnp.array(y_test).reshape(-1, 1)\n",
    "    x_test_timestamp = torch.tensor(x_test_timestamp).reshape(-1,1)\n",
    "    x_test_main = jnp.array(x_test_main).reshape(-1,1)\n",
    "    x_test_mean = jnp.array(x_test_mean).reshape(-1,1)\n",
    "    x_test_std =  jnp.array(x_test_std).reshape(-1,1)\n",
    "    x_test_max_min =  jnp.array(x_test_max_min).reshape(-1,1)\n",
    "    x_test_max = jnp.array(x_test_max).reshape(-1,1)\n",
    "    x_test_min = jnp.array(x_test_min).reshape(-1,1)\n",
    "    x_test_kurtosis = jnp.array(x_test_kurtosis).reshape(-1,1)\n",
    "    x_test_skew = jnp.array(x_test_skew).reshape(-1,1)\n",
    "\n",
    "    x_test = scaler_x.transform(x_test)\n",
    "    x_test_timestamp = scaler_time.transform(x_test_timestamp)\n",
    "    x_test_mean = scaler_mean.transform(x_test_mean)\n",
    "    x_test_std = scaler_std.transform(x_test_std)\n",
    "    x_test_max_min = scaler_max_min.transform(x_test_max_min)\n",
    "    x_test_main = scaler_main.transform(x_test_main)\n",
    "    x_test_max =  scaler_max.transform(x_test_max)\n",
    "    x_test_min = scaler_min.transform(x_test_min)\n",
    "    x_test_kurtosis = scaler_kurtosis.transform(x_test_kurtosis)\n",
    "    x_test_skew = scaler_skew.transform(x_test_skew)\n",
    "\n",
    "    x_train = jnp.array(x_train[:,1:]).reshape(x_train.shape[0], n-1)\n",
    "    y_train = jnp.array(y_train)\n",
    "    x_train_timestamp = torch.tensor(x_train_timestamp).reshape(x_train_timestamp.shape[0], 1)\n",
    "    x_test = jnp.array(x_test[:,1:]).reshape(x_test.shape[0], n-1)\n",
    "    y_test = jnp.array(y_test)\n",
    "    x_test_timestamp = torch.tensor(x_test_timestamp).reshape(x_test_timestamp.shape[0], 1).to(torch.float64)\n",
    "\n",
    "\n",
    "    num_features_selected = 6\n",
    "    x_train_features = jnp.concatenate((x_train_main, x_train_mean,  x_train_max_min,x_train_max, x_train_min, x_train_kurtosis), axis=1).reshape(x_train.shape[0], num_features_selected)\n",
    "    x_test_features = jnp.concatenate((x_test_main, x_test_mean,  x_test_max_min, x_test_max, x_test_min,  x_test_kurtosis), axis=1).reshape(x_test.shape[0], num_features_selected)\n",
    "\n",
    "    scalers = np.array([scaler_x, scaler_y, scaler_time, scaler_main, scaler_mean, scaler_std, scaler_max_min, scaler_max, scaler_min, scaler_kurtosis, scaler_skew])\n",
    "    return x_train, y_train, x_test, y_test, x_train_features, x_test_features, x_train_timestamp, x_test_timestamp, scalers, x_test_main\n"
   ]
  },
  {
   "cell_type": "code",
   "execution_count": 6,
   "metadata": {},
   "outputs": [],
   "source": [
    "x_train, y_train, x_test, y_test, x_train_features, x_test_features, x_train_timstamp, x_test_timestamp, scalers, x_test_main = dataset_load(appliances, train, test, bias=True)"
   ]
  },
  {
   "cell_type": "code",
   "execution_count": 7,
   "metadata": {},
   "outputs": [],
   "source": [
    "x_train_diff = x_train_features[:,0]\n",
    "# diff1 = np.array(x_train_diff)\n",
    "# for i in range(1, len(x_train_diff)):\n",
    "# \t\tvalue = x_train_diff[i] - x_train_diff[i - 1]\n",
    "# \t\tdiff1[i] = value\n",
    "\n",
    "x_test_diff = x_test_features[:,0]\n",
    "# diff2 = np.array(x_test_diff)\n",
    "# for i in range(1, len(x_test_diff)):\n",
    "# \t\tvalue = x_test_diff[i] - x_test_diff[i - 1]\n",
    "# \t\tdiff2[i] = value"
   ]
  },
  {
   "cell_type": "code",
   "execution_count": 8,
   "metadata": {},
   "outputs": [],
   "source": [
    "x_train_features = jnp.concatenate((x_train_features, jnp.array(np.array(x_train_diff.reshape(-1,1)))), axis=1)\n",
    "x_test_features = jnp.concatenate((x_test_features, jnp.array(np.array(x_test_diff.reshape(-1,1)))),  axis=1)"
   ]
  },
  {
   "cell_type": "code",
   "execution_count": 9,
   "metadata": {},
   "outputs": [
    {
     "data": {
      "text/plain": [
       "((24918, 7), (15656, 7))"
      ]
     },
     "execution_count": 9,
     "metadata": {},
     "output_type": "execute_result"
    }
   ],
   "source": [
    "x_train_features.shape, x_test_features.shape"
   ]
  },
  {
   "cell_type": "code",
   "execution_count": 10,
   "metadata": {},
   "outputs": [],
   "source": [
    "n = x_train_features.shape[1]\n",
    "x = torch.tensor(np.array(x_train_features)).to(torch.float64)\n",
    "y = torch.tensor(np.array(y_train)).reshape(-1,).to(torch.float64)\n",
    "xt = torch.tensor(np.array(x_test_features)).to(torch.float64)\n",
    "yt = torch.tensor(np.array(y_test)).reshape(-1,).to(torch.float64)\n"
   ]
  },
  {
   "cell_type": "code",
   "execution_count": 11,
   "metadata": {},
   "outputs": [
    {
     "data": {
      "text/plain": [
       "(torch.Size([24918, 7]),\n",
       " torch.Size([24918]),\n",
       " torch.Size([15656, 7]),\n",
       " torch.Size([15656]))"
      ]
     },
     "execution_count": 11,
     "metadata": {},
     "output_type": "execute_result"
    }
   ],
   "source": [
    "x.shape, y.shape, xt.shape, yt.shape"
   ]
  },
  {
   "cell_type": "code",
   "execution_count": 13,
   "metadata": {},
   "outputs": [],
   "source": [
    "kernel1 = ScaleKernel(MaternKernel(nu=2.5, ard_num_dims=n))\n",
    "kernel6 = ScaleKernel(LinearKernel(active_dims = (3)))\n",
    "kernel = kernel1 #+ kernel6# + kernel6\n",
    "inducing_points =  x[np.arange(0,x.shape[0],95)] \n",
    "\n",
    "model = SGPRegressor(x.to(\"cuda\"), y.to(\"cuda\"), kernel, \n",
    "                      inducing_points).to(\"cuda\")\n",
    "loss = model.fit(lr=0.01, n_epochs=1500,verbose=1,thetas = None,\n",
    "        random_state=0, n_restarts=1)\n",
    "plt.plot(np.asarray(loss[0]))"
   ]
  },
  {
   "cell_type": "code",
   "execution_count": null,
   "metadata": {},
   "outputs": [],
   "source": [
    "model_name = \"feature_final_min.pt\"\n",
    "torch.save(model.state_dict(), os.path.join(\n",
    "  \"/models\", model_name))"
   ]
  },
  {
   "cell_type": "code",
   "execution_count": 12,
   "metadata": {},
   "outputs": [
    {
     "data": {
      "text/plain": [
       "<All keys matched successfully>"
      ]
     },
     "execution_count": 12,
     "metadata": {},
     "output_type": "execute_result"
    }
   ],
   "source": [
    "kernel1 = ScaleKernel(MaternKernel(nu=2.5, ard_num_dims=n))\n",
    "kernel2 = ScaleKernel(LinearKernel(active_dims = (2)))\n",
    "kernel = kernel1 #+ kernel2\n",
    "  # induce_points = 512\n",
    "inducing_points =  x[np.arange(0,x.shape[0],95)]  # 95\n",
    "  # inducing_points = x[torch.randperm(x.shape[0])[: 1500]]\n",
    "  \n",
    "model = SGPRegressor(x.to(\"cuda\"), y.to(\"cuda\"), kernel, \n",
    "                       inducing_points).to(\"cuda\")\n",
    "model_name =  \"feature_final.pt\"\n",
    "model.load_state_dict(torch.load(\n",
    "    os.path.join(\"./models\", model_name)))"
   ]
  },
  {
   "cell_type": "code",
   "execution_count": 13,
   "metadata": {},
   "outputs": [],
   "source": [
    "try:\n",
    "    from probml_utils import latexify, savefig, is_latexify_enabled\n",
    "except ModuleNotFoundError:\n",
    "    %pip install git+https://github.com/probml/probml-utils.git\n",
    "    from probml_utils import latexify, savefig, is_latexify_enabled\n",
    "os.environ[\"LATEXIFY\"] = \"1\"\n",
    "os.environ[\"FIG_DIR\"] = \"./Figures/\""
   ]
  },
  {
   "cell_type": "markdown",
   "metadata": {},
   "source": [
    "## Scatter"
   ]
  },
  {
   "cell_type": "code",
   "execution_count": 15,
   "metadata": {},
   "outputs": [],
   "source": [
    "x_lin_max = 3000\n",
    "x_lin = np.linspace(0,x_lin_max,15656) #+ 100*np.ones(np.array(x_test).shape[0])\n",
    "x_time = np.linspace(scalers[2].inverse_transform(x_test_timestamp.reshape(-1,1)).min(), scalers[2].inverse_transform(x_test_timestamp.reshape(-1,1)).max(), 15656)\n",
    "x_range = np.linspace(scalers[6].inverse_transform(x_test_features[2].reshape(-1,1)).min(), scalers[6].inverse_transform(x_test_features[2].reshape(-1,1)).max(), 15656)\n",
    "x_max = np.linspace(scalers[7].inverse_transform(x_test_features[3].reshape(-1,1)).min(), scalers[7].inverse_transform(x_test_features[3].reshape(-1,1)).max(), 15656)\n",
    "x_min = np.linspace(scalers[8].inverse_transform(x_test_features[4].reshape(-1,1)).min(), scalers[8].inverse_transform(x_test_features[4].reshape(-1,1)).max(), 15656)\n",
    "x_diff = np.linspace(scalers[3].inverse_transform(x_test_features[5].reshape(-1,1)).min(), scalers[3].inverse_transform(x_test_features[5].reshape(-1,1)).max(), 15656)\n",
    "x_mean = np.linspace(scalers[4].inverse_transform(x_test_features[1].reshape(-1,1)).min(), scalers[4].inverse_transform(x_test_features[1].reshape(-1,1)).max(), 15656)\n",
    "x_kur = np.linspace(scalers[9].inverse_transform(x_test_features[6].reshape(-1,1)).min(), scalers[9].inverse_transform(x_test_features[6].reshape(-1,1)).max(), 15656)"
   ]
  },
  {
   "cell_type": "code",
   "execution_count": 16,
   "metadata": {},
   "outputs": [],
   "source": [
    "# x_train_diff = x_train_features[:,0]\n",
    "# diff = np.array(x_train_diff)\n",
    "# for i in range(1, len(x_train_diff)):\n",
    "# \t\tvalue = x_train_diff[i] - x_train_diff[i - 1]\n",
    "# \t\tdiff[i] = value\n",
    "x_lin_scale = torch.tensor(scalers[3].transform(x_lin.reshape(-1,1))).to(torch.float32)\n",
    "x_lin_dif = x_lin_scale\n",
    "diff_scale = np.array(x_lin_dif)\n",
    "for i in range(1, len(x_lin_dif)):\n",
    "\t\tvalue = x_lin_dif[i] - x_lin_dif[i - 1]\n",
    "\t\tdiff_scale[i] = value\n",
    "\n",
    "\t\t"
   ]
  },
  {
   "cell_type": "code",
   "execution_count": 17,
   "metadata": {},
   "outputs": [],
   "source": [
    "x_range_scale = torch.tensor(diff_scale.reshape(-1,1)).to(torch.float32)"
   ]
  },
  {
   "cell_type": "code",
   "execution_count": 18,
   "metadata": {},
   "outputs": [],
   "source": [
    "\n",
    "x_time_scale =  torch.tensor(scalers[2].transform(x_time.reshape(-1,1))).to(torch.float32)\n",
    "# x_range_scale =  torch.tensor(scalers[6].transform(np.array().reshape(-1,1))).to(torch.float32)\n",
    "x_max_scale =  torch.tensor(scalers[7].transform(x_max.reshape(-1,1))).to(torch.float32)\n",
    "x_min_scale =  torch.tensor(scalers[8].transform(x_min.reshape(-1,1))).to(torch.float32)\n",
    "x_dif_scale =  torch.tensor(scalers[3].transform(x_diff.reshape(-1,1))).to(torch.float32)\n",
    "x_mean_scale =  torch.tensor(scalers[4].transform(x_mean.reshape(-1,1))).to(torch.float32)\n",
    "x_kur_scale =  torch.tensor(scalers[9].transform(x_kur.reshape(-1,1))).to(torch.float32)"
   ]
  },
  {
   "cell_type": "code",
   "execution_count": 19,
   "metadata": {},
   "outputs": [],
   "source": [
    "x_new = torch.cat((x_lin_scale, x_mean_scale, x_range_scale, x_max_scale,x_min_scale, x_kur_scale, x_dif_scale),dim=1 ).to(torch.float32)"
   ]
  },
  {
   "cell_type": "code",
   "execution_count": 20,
   "metadata": {},
   "outputs": [
    {
     "data": {
      "text/plain": [
       "(torch.Size([15656, 7]), torch.float32)"
      ]
     },
     "execution_count": 20,
     "metadata": {},
     "output_type": "execute_result"
    }
   ],
   "source": [
    "x_new.shape, x_new.dtype"
   ]
  },
  {
   "cell_type": "code",
   "execution_count": 21,
   "metadata": {},
   "outputs": [
    {
     "name": "stderr",
     "output_type": "stream",
     "text": [
      "/home/desai.aadesh/miniconda3/envs/nlim/lib/python3.10/site-packages/gpytorch/kernels/inducing_point_kernel.py:61: UserWarning: torch.triangular_solve is deprecated in favor of torch.linalg.solve_triangularand will be removed in a future PyTorch release.\n",
      "torch.linalg.solve_triangular has its arguments reversed and does not return a copy of one of the inputs.\n",
      "X = torch.triangular_solve(B, A).solution\n",
      "should be replaced with\n",
      "X = torch.linalg.solve_triangular(A, B). (Triggered internally at  /opt/conda/conda-bld/pytorch_1656352645774/work/aten/src/ATen/native/BatchLinearAlgebra.cpp:2183.)\n",
      "  inv_root = torch.triangular_solve(eye, chol)[0]\n"
     ]
    }
   ],
   "source": [
    "pred_dist = model.predict(x_new.to(\"cuda\"))"
   ]
  },
  {
   "cell_type": "code",
   "execution_count": 22,
   "metadata": {},
   "outputs": [],
   "source": [
    "y_mean = pred_dist.loc \n",
    "y_mean = scalers[1].inverse_transform(y_mean.cpu().reshape(-1,1))"
   ]
  },
  {
   "cell_type": "markdown",
   "metadata": {},
   "source": [
    "## Needed"
   ]
  },
  {
   "cell_type": "code",
   "execution_count": 29,
   "metadata": {},
   "outputs": [
    {
     "name": "stdout",
     "output_type": "stream",
     "text": [
      "saving image to ./Figures/features_vs_app_mean_latexified.pdf\n",
      "Figure size: [3.  1.5]\n"
     ]
    },
    {
     "data": {
      "image/png": "[encoded data removed]",
      "text/plain": [
       "<Figure size 216x108 with 1 Axes>"
      ]
     },
     "metadata": {
      "needs_background": "light"
     },
     "output_type": "display_data"
    }
   ],
   "source": [
    "plt.figure()\n",
    "latexify(width_scale_factor=2, fig_height=1.5)\n",
    "start = 500\n",
    "idx = 4000\n",
    "plt.plot(x_lin, y_mean, 'k', label=\" Predicted Mean\", alpha=0.7)\n",
    "plt.scatter( scalers[3].inverse_transform(x_train_features[:,0].reshape(-1,1)), scalers[1].inverse_transform(y_train.reshape(-1,1)), s = 6, label= \"Appliance Power\")\n",
    "plt.xlim(00,1500)\n",
    "sns.despine()\n",
    "# plt.title(\"Train Mains Vs Train Applaince along with Predicted Means\")\n",
    "plt.legend( frameon = False, bbox_to_anchor=(0.4, 0.6))\n",
    "plt.xlabel(\"Train Mains\")\n",
    "plt.ylabel(\"Train Appliance Power\")\n",
    "# plt.show()\n",
    "savefig(\"features_vs_app_mean\")\n"
   ]
  },
  {
   "cell_type": "markdown",
   "metadata": {},
   "source": [
    "## Decomp"
   ]
  },
  {
   "cell_type": "code",
   "execution_count": null,
   "metadata": {},
   "outputs": [],
   "source": [
    "kernel1 = ScaleKernel(RBFKernel(ard_num_dims=n))\n",
    "# kernel2 = ScaleKernel(RBFKernel(ard_num_dims=1,active_dims=(99)))\n",
    "# kernel3 = ScaleKernel(CosineKernel(ard_num_dims=1,active_dims=(99)))\n",
    "\n",
    "# kernel4 = kernel2*kernel3\n",
    "kernel = kernel1 #ernel4\n",
    "# induce_points = 512\n",
    "inducing_points =  x[np.arange(0,x.shape[0],70)] \n",
    "# inducing_points = x[torch.randperm(x.shape[0])[: 1500]]\n",
    "\n",
    "model = SGPRegressor(x.to(\"cuda\"), y.to(\"cuda\"), kernel,\n",
    "                      inducing_points).to(\"cuda\")\n",
    "\n",
    "model_name =  \"Refrigerator_rbf_building6_\" + str(0) + \".pt\"\n",
    "model.load_state_dict(torch.load(\n",
    "    os.path.join(\"./final_models/\", model_name)))"
   ]
  },
  {
   "cell_type": "code",
   "execution_count": 25,
   "metadata": {},
   "outputs": [],
   "source": [
    "model1 = SGPRegressor(x.to(\"cuda\"), y.to(\"cuda\"), kernel1,\n",
    "                      inducing_points).to(\"cuda\")"
   ]
  },
  {
   "cell_type": "code",
   "execution_count": 26,
   "metadata": {},
   "outputs": [],
   "source": [
    "pred_dist1 = model1.predict(xt.to(\"cuda\"))\n",
    "# print(\"Done \", i)\n",
    "\n",
    "y_mean1 = pred_dist1.loc"
   ]
  },
  {
   "cell_type": "code",
   "execution_count": 27,
   "metadata": {},
   "outputs": [],
   "source": [
    "pred_arr =[]\n",
    "pred_arr.append(np.array(pred_dist1.mean.cpu()))"
   ]
  },
  {
   "cell_type": "code",
   "execution_count": 28,
   "metadata": {},
   "outputs": [],
   "source": [
    "y_mean1 = np.mean(pred_arr, axis =0)\n",
    "\n",
    "# y_Std = np.std(np.array(pred_arr), axis =0)"
   ]
  },
  {
   "cell_type": "code",
   "execution_count": 29,
   "metadata": {},
   "outputs": [],
   "source": [
    "y_mean1 = scalers[1].inverse_transform(y_mean1.reshape(-1,1)).squeeze()\n",
    "# y_std = scaler_y.inverse_transform(y_Std.reshape(-1,1)).squeeze()"
   ]
  },
  {
   "cell_type": "code",
   "execution_count": 33,
   "metadata": {},
   "outputs": [
    {
     "data": {
      "text/plain": [
       "(15656,)"
      ]
     },
     "execution_count": 33,
     "metadata": {},
     "output_type": "execute_result"
    }
   ],
   "source": [
    "y_mean1.shape"
   ]
  },
  {
   "cell_type": "code",
   "execution_count": 34,
   "metadata": {},
   "outputs": [],
   "source": [
    "y_mean_1 = np.clip(y_mean1,0,y_mean1.max())\n",
    "# y_sigma =  np.clip(y_mean,0,y_mean.max())"
   ]
  },
  {
   "cell_type": "code",
   "execution_count": 51,
   "metadata": {},
   "outputs": [],
   "source": [
    "# x2 = x_train_features[:,0].reshape(-1,1)\n",
    "# plt.figure()\n",
    "# latexify(width_scale_factor=2, fig_height=1.75)\n",
    "# df = pd.read_csv(\"time_stamp.csv\", index_col=0)\n",
    "# df.index = df[\"0\"]\n",
    "# df.index = pd.to_datetime(df.index)\n",
    "# df.index.name = \"Time\"\n",
    "# df[\" Train Mains\"] = scalers[3].inverse_transform(x2)\n",
    "# df[start:start+idx].scatter(rot=90, legend=False)"
   ]
  },
  {
   "cell_type": "code",
   "execution_count": 22,
   "metadata": {},
   "outputs": [],
   "source": [
    "time_plot = scalers[2].inverse_transform(x_test_timestamp.reshape(-1,1))\n",
    "x1 = x_test_features[:,0].reshape(-1,1)"
   ]
  },
  {
   "cell_type": "code",
   "execution_count": 35,
   "metadata": {},
   "outputs": [
    {
     "name": "stdout",
     "output_type": "stream",
     "text": [
      "saving image to Neurips/FinalPlots/kernel1_decomp_linear_without bias_latexified.pdf\n",
      "Figure size: [3.   1.75]\n"
     ]
    },
    {
     "data": {
      "text/plain": [
       "<Figure size 216x126 with 0 Axes>"
      ]
     },
     "metadata": {},
     "output_type": "display_data"
    },
    {
     "data": {
      "image/png": "[encoded data removed]",
      "text/plain": [
       "<Figure size 216x126 with 1 Axes>"
      ]
     },
     "metadata": {
      "needs_background": "light"
     },
     "output_type": "display_data"
    }
   ],
   "source": [
    "idx = 500 #x2.shape[0]\n",
    "start = 4000\n",
    "\n",
    "plt.figure()\n",
    "latexify(width_scale_factor=2, fig_height=1.75)\n",
    "df = pd.read_csv(\"time_stamp.csv\", index_col=0)\n",
    "df.index = df[\"0\"]\n",
    "df.index = pd.to_datetime(df.index)\n",
    "df.index.name = \"Time\"\n",
    "df = df.drop(columns=[\"0\"])\n",
    "df[\"Main Power\"] = scalers[3].inverse_transform(x1)\n",
    "df[\"Ground Truth\"] = yt.cpu()\n",
    "df[\"Prediction\"] = y_mean_1\n",
    "df[start:start+idx].plot(rot=90, legend=False)\n",
    "sns.despine()\n",
    "# df.plot.( rotation=90)\n",
    "plt.legend(frameon=False, bbox_to_anchor=(0.55, 0.5))\n",
    "# df.head()\n",
    "# plt.ylim(0,350)\n",
    "plt.ylabel(\"Power\")\n",
    "savefig(\"kernel1_decomp_linear_without bias\")"
   ]
  },
  {
   "cell_type": "code",
   "execution_count": 29,
   "metadata": {},
   "outputs": [],
   "source": [
    "# idx = 500\n",
    "# latexify(width_scale_factor=2, fig_height=1.75)\n",
    "# start = 4000\n",
    "# plt.figure()\n",
    "# plt.plot(x_test_timestamp[start: start + idx], scalers[3].inverse_transform(x_test_features[:,0].reshape(-1,1))[start : start+idx], label = \"Main\")\n",
    "# plt.plot(x_test_timestamp[start:start+idx], yt.cpu()[start:start+idx], label = \"Ground Truth\")\n",
    "# plt.plot(x_test_timestamp[start:start+idx], y_mean_[start:start+idx], label = \"Predicted\")\n",
    "# # plt.legend(bbox_to_anchor=(1, 1),fontsize=20)\n",
    "# plt.xlabel(\"Time\")\n",
    "# plt.ylabel(\"Power\")\n",
    "# sns.despine()\n",
    "# plt.ylim(0,350)\n",
    "# # savefig(\"kernel1_decomp_features_1\")"
   ]
  },
  {
   "cell_type": "code",
   "execution_count": 15,
   "metadata": {},
   "outputs": [],
   "source": [
    "model2 = SGPRegressor(x.to(\"cuda\"), y.to(\"cuda\"), kernel6,\n",
    "                      inducing_points).to(\"cuda\")"
   ]
  },
  {
   "cell_type": "code",
   "execution_count": 16,
   "metadata": {},
   "outputs": [
    {
     "name": "stderr",
     "output_type": "stream",
     "text": [
      "/home/desai.aadesh/miniconda3/envs/nlim/lib/python3.10/site-packages/gpytorch/utils/cholesky.py:40: NumericalWarning: A not p.d., added jitter of 1.0e-08 to the diagonal\n",
      "  warnings.warn(\n"
     ]
    }
   ],
   "source": [
    "pred_dist2 = model2.predict(xt.to(\"cuda\"))\n",
    "# print(\"Done \", i)\n",
    "\n",
    "y_mean2 = pred_dist2.loc"
   ]
  },
  {
   "cell_type": "code",
   "execution_count": 17,
   "metadata": {},
   "outputs": [
    {
     "name": "stdout",
     "output_type": "stream",
     "text": [
      "torch.Size([15656]) (15656,)\n"
     ]
    }
   ],
   "source": [
    "y_mean2 = scalers[1].inverse_transform(y_mean2.cpu().reshape(-1,1)).squeeze()\n",
    "# y_sigma = scaler_y.inverse_transform(y_sigma.reshape(-1,1)).squeeze()\n",
    "print(yt.shape, y_mean2.shape)"
   ]
  },
  {
   "cell_type": "code",
   "execution_count": 18,
   "metadata": {},
   "outputs": [],
   "source": [
    "y_mean_2 = np.clip(y_mean2,0,y_mean2.max())"
   ]
  },
  {
   "cell_type": "code",
   "execution_count": 34,
   "metadata": {},
   "outputs": [],
   "source": [
    "# idx = 500\n",
    "# latexify(width_scale_factor=2, fig_height=1.75)\n",
    "# start = 4000\n",
    "# plt.figure()\n",
    "# plt.plot(x_test_timestamp[start: start + idx], scalers[3].inverse_transform(x_test_features[:,0].reshape(-1,1))[start : start+idx], label = \"Main\")\n",
    "# plt.plot(x_test_timestamp[start:start+idx], yt.cpu()[start:start+idx], label = \"Ground Truth\")\n",
    "# plt.plot(x_test_timestamp[start:start+idx], y_mean_[start:start+idx], label = \"Predicted\")\n",
    "# # plt.legend(bbox_to_anchor=(1, 1),fontsize=20)\n",
    "# plt.xlabel(\"Time\")\n",
    "# plt.ylabel(\"Power\")\n",
    "# plt.ylim(0,250)\n",
    "# sns.despine()\n",
    "# savefig(\"kernel2_decomp_features_2\")"
   ]
  },
  {
   "cell_type": "code",
   "execution_count": 23,
   "metadata": {},
   "outputs": [
    {
     "name": "stdout",
     "output_type": "stream",
     "text": [
      "saving image to Neurips/FinalPlots/kernel2_decomp_linear_withoutbias_latexified.pdf\n",
      "Figure size: [3.   1.75]\n"
     ]
    },
    {
     "data": {
      "text/plain": [
       "<Figure size 216x126 with 0 Axes>"
      ]
     },
     "metadata": {},
     "output_type": "display_data"
    },
    {
     "data": {
      "image/png": "[encoded data removed]",
      "text/plain": [
       "<Figure size 216x126 with 1 Axes>"
      ]
     },
     "metadata": {
      "needs_background": "light"
     },
     "output_type": "display_data"
    }
   ],
   "source": [
    "idx = 500 #x2.shape[0]\n",
    "start = 4000\n",
    "\n",
    "plt.figure()\n",
    "latexify(width_scale_factor=2, fig_height=1.75)\n",
    "df = pd.read_csv(\"time_stamp.csv\", index_col=0)\n",
    "df.index = df[\"0\"]\n",
    "df.index = pd.to_datetime(df.index)\n",
    "df.index.name = \"Time\"\n",
    "df = df.drop(columns=[\"0\"])\n",
    "df[\"Main Power\"] = scalers[3].inverse_transform(x1)\n",
    "df[\"Ground Truth\"] = yt.cpu()\n",
    "df[\"Prediction\"] = y_mean_2\n",
    "df[start:start+idx].plot(rot=90, legend=False)\n",
    "sns.despine()\n",
    "# df.plot.( rotation=90)\n",
    "plt.legend(frameon=False, bbox_to_anchor=(0.6, 0.62))\n",
    "# df.head()\n",
    "# plt.ylim(0,350)\n",
    "plt.ylabel(\"Power\")\n",
    "savefig(\"kernel2_decomp_linear_withoutbias\")"
   ]
  },
  {
   "cell_type": "code",
   "execution_count": null,
   "metadata": {},
   "outputs": [],
   "source": [
    "idx = 3000\n",
    "# plt.figure(figsize=(10,6))\n",
    "plt.plot(jnp.arange(idx),  yt.cpu().reshape(-1,1)[:idx], label = \"Ground Truth\", color=\"green\")\n",
    "plt.plot(jnp.arange(idx), y_mean_[:idx].reshape(-1,1), label = \"Predicted\")\n",
    "# for i in range(2,3):\n",
    "#     plt.fill_between(jnp.arange(idx), y_mean[:idx] - i*y_std[:idx], y_mean[:idx] + i*y_std[:idx],\n",
    "#                     color=\"orange\", alpha=(1/(i*3)), label=f\"$\\mu\\pm{i}*\\sigma$\")\n",
    "# plt.legend(bbox_to_anchor=(1, 1),fontsize=20)\n",
    "plt.legend( prop={'size': 5.5})\n",
    "plt.ylabel(\"Power\")\n",
    "sns.despine()"
   ]
  },
  {
   "cell_type": "code",
   "execution_count": null,
   "metadata": {},
   "outputs": [],
   "source": [
    "mae = np.mean(np.abs(np.array(yt) - y_mean))\n",
    "rms = errors.rmse(jnp.array(yt), y_mean)\n",
    "\n",
    "print(\"MAE: \", mae)\n",
    "print(\"RMSE: \", rms)"
   ]
  },
  {
   "cell_type": "code",
   "execution_count": null,
   "metadata": {},
   "outputs": [],
   "source": [
    "try:\n",
    "    from probml_utils import latexify, savefig, is_latexify_enabled\n",
    "except ModuleNotFoundError:\n",
    "    %pip install git+https://github.com/probml/probml-utils.git\n",
    "    from probml_utils import latexify, savefig, is_latexify_enabled\n"
   ]
  },
  {
   "cell_type": "code",
   "execution_count": null,
   "metadata": {},
   "outputs": [],
   "source": [
    "os.environ[\"LATEXIFY\"] = \"1\"\n",
    "os.environ[\"FIG_DIR\"] = \"./Final_plotss/\""
   ]
  },
  {
   "cell_type": "code",
   "execution_count": null,
   "metadata": {},
   "outputs": [],
   "source": [
    "latexify(width_scale_factor=2, fig_height=2)"
   ]
  },
  {
   "cell_type": "code",
   "execution_count": null,
   "metadata": {},
   "outputs": [],
   "source": [
    "idx = 2000\n",
    "# plt.figure(figsize=(10,6))\n",
    "plt.figure()\n",
    "plt.plot(jnp.arange(idx), yt[300:idx+300], label = \"Fridge True\")\n",
    "plt.plot(jnp.arange(idx), y_mean[300:idx+300], label = \"Fridge Predicted\")\n",
    "plt.legend()\n",
    "sns.despine()\n",
    "savefig(\"CombinationKernel\")"
   ]
  },
  {
   "cell_type": "code",
   "execution_count": null,
   "metadata": {},
   "outputs": [],
   "source": [
    "model1 = SGPRegressor(x.to(\"cuda\"), y.to(\"cuda\"), kernel1,\n",
    "                       inducing_points).to(\"cuda\")"
   ]
  },
  {
   "cell_type": "code",
   "execution_count": null,
   "metadata": {},
   "outputs": [],
   "source": [
    "pred_dist1 = model1.predict(xt.to(\"cuda\"))\n",
    "# print(\"Done \", i)\n",
    "\n",
    "y_mean1 = pred_dist1.loc"
   ]
  },
  {
   "cell_type": "code",
   "execution_count": null,
   "metadata": {},
   "outputs": [],
   "source": [
    "y_mean1 = scalers[1].inverse_transform(y_mean1.cpu().reshape(-1,1)).squeeze()\n",
    "# y_sigma = scaler_y.inverse_transform(y_sigma.reshape(-1,1)).squeeze()\n",
    "print(yt.shape, y_mean1.shape)"
   ]
  },
  {
   "cell_type": "code",
   "execution_count": null,
   "metadata": {},
   "outputs": [],
   "source": [
    "idx = 2000\n",
    "# plt.figure(figsize=(10,6))\n",
    "plt.figure()\n",
    "plt.plot(jnp.arange(idx), yt[300:idx+300], label = \"Fridge True\")\n",
    "plt.plot(jnp.arange(idx), y_mean1[300:idx+300], label = \"Fridge Predicted\")\n",
    "# plt.legend()\n",
    "sns.despine()\n",
    "savefig(\"RBFKernel\")"
   ]
  },
  {
   "cell_type": "code",
   "execution_count": null,
   "metadata": {},
   "outputs": [],
   "source": [
    "# for name, params in model.named_parameters():\n",
    "#   print(name, params)\n",
    "\n",
    "# # model.mll.model.base_covar_module.kernels.base_kernel.raw_lengthscale"
   ]
  },
  {
   "cell_type": "code",
   "execution_count": null,
   "metadata": {},
   "outputs": [],
   "source": [
    "x.shape"
   ]
  },
  {
   "cell_type": "code",
   "execution_count": null,
   "metadata": {},
   "outputs": [],
   "source": [
    "model2 = SGPRegressor(x.to(\"cuda\"), y.to(\"cuda\"), kernel4,\n",
    "                       inducing_points).to(\"cuda\")"
   ]
  },
  {
   "cell_type": "code",
   "execution_count": null,
   "metadata": {},
   "outputs": [],
   "source": [
    "pred_dist2 = model2.predict(xt.to(\"cuda\"))\n",
    "# print(\"Done \", i)\n",
    "\n",
    "y_mean2 = pred_dist2.loc"
   ]
  },
  {
   "cell_type": "code",
   "execution_count": null,
   "metadata": {},
   "outputs": [],
   "source": [
    "y_mean2 = scaler_y.inverse_transform(y_mean2.cpu().reshape(-1,1)).squeeze()\n",
    "# y_sigma = scaler_y.inverse_transform(y_sigma.reshape(-1,1)).squeeze()\n",
    "print(yt.shape, y_mean2.shape)"
   ]
  },
  {
   "cell_type": "code",
   "execution_count": null,
   "metadata": {},
   "outputs": [],
   "source": [
    "idx = 2000\n",
    "plt.figure()\n",
    "# plt.figure(figsize=(10,6))\n",
    "plt.plot(jnp.arange(idx), yt[300:idx+300], label = \"Fridge True\")\n",
    "plt.plot(jnp.arange(idx), y_mean2[300:idx+300], label = \"Fridge Predicted\")\n",
    "# plt.legend()\n",
    "sns.despine()\n",
    "savefig(\"RBFxPeriodicKernel\")"
   ]
  },
  {
   "cell_type": "markdown",
   "metadata": {},
   "source": [
    "## Normal"
   ]
  },
  {
   "cell_type": "code",
   "execution_count": 31,
   "metadata": {},
   "outputs": [
    {
     "data": {
      "text/plain": [
       "<matplotlib.collections.PathCollection at 0x7f8cc41d39a0>"
      ]
     },
     "execution_count": 31,
     "metadata": {},
     "output_type": "execute_result"
    },
    {
     "data": {
      "image/png": "[encoded data removed]",
      "text/plain": [
       "<Figure size 144x126 with 1 Axes>"
      ]
     },
     "metadata": {
      "needs_background": "light"
     },
     "output_type": "display_data"
    }
   ],
   "source": [
    "plt.scatter(range(x_train_features.shape[1]),model.mll.model.base_covar_module.base_kernel.lengthscale.cpu().detach().reshape(-1,1))"
   ]
  },
  {
   "cell_type": "code",
   "execution_count": 18,
   "metadata": {},
   "outputs": [
    {
     "name": "stderr",
     "output_type": "stream",
     "text": [
      "/home/desai.aadesh/miniconda3/envs/nlim/lib/python3.10/site-packages/numpy/lib/stride_tricks.py:537: FutureWarning: The input object of type 'Tensor' is an array-like implementing one of the corresponding protocols (`__array__`, `__array_interface__` or `__array_struct__`); but not a sequence (or 0-D). In the future, this object will be coerced as if it was first converted using `np.array(obj)`. To retain the old behaviour, you have to either modify the type 'Tensor', or assign to an empty array created with `np.empty(correct_shape, dtype=object)`.\n",
      "  args = [np.array(_m, copy=False, subok=subok) for _m in args]\n",
      "/home/desai.aadesh/miniconda3/envs/nlim/lib/python3.10/site-packages/numpy/lib/stride_tricks.py:537: VisibleDeprecationWarning: Creating an ndarray from ragged nested sequences (which is a list-or-tuple of lists-or-tuples-or ndarrays with different lengths or shapes) is deprecated. If you meant to do this, you must specify 'dtype=object' when creating the ndarray.\n",
      "  args = [np.array(_m, copy=False, subok=subok) for _m in args]\n"
     ]
    },
    {
     "data": {
      "image/png": "[encoded data removed]",
      "text/plain": [
       "<Figure size 144x126 with 1 Axes>"
      ]
     },
     "metadata": {
      "needs_background": "light"
     },
     "output_type": "display_data"
    },
    {
     "name": "stdout",
     "output_type": "stream",
     "text": [
      "saving image to ./Figures/ARD_features_latexified.pdf\n",
      "Figure size: [2.   1.75]\n"
     ]
    },
    {
     "data": {
      "text/plain": [
       "<Figure size 144x126 with 0 Axes>"
      ]
     },
     "metadata": {},
     "output_type": "display_data"
    }
   ],
   "source": [
    "if (linear== True and bias==False):\n",
    "fig, ax = plt.subplots(1,1) \n",
    "latexify(width_scale_factor=3, fig_height=1.75)\n",
    "ax.bar(range(7),model.mll.model.base_covar_module.kernels[0].base_kernel.lengthscale.cpu().detach().reshape(-1,1)[:7])\n",
    "x_ticks_labels = [\"Main\", \"Mean\", \"Range\", \"Max\", \"Min\", \"Kurtosis\", \"Difference\"]\n",
    "sns.despine()\n",
    "# ax.set_xlabel(\"Number of features\")\n",
    "ax.set_ylabel(\"LengthScale of features\")\n",
    "# ax.set_xticklabels(x_ticks_labels, rotation='vertical')\n",
    "plt.xticks(range(len(x_ticks_labels)), x_ticks_labels,   rotation='vertical')\n",
    "plt.show()\n",
    "savefig(\"ARD_features\")"
   ]
  },
  {
   "cell_type": "code",
   "execution_count": null,
   "metadata": {},
   "outputs": [],
   "source": [
    "for name, params in model.named_parameters():\n",
    "  print(name, params)"
   ]
  },
  {
   "cell_type": "code",
   "execution_count": 14,
   "metadata": {},
   "outputs": [
    {
     "name": "stderr",
     "output_type": "stream",
     "text": [
      "/home/desai.aadesh/miniconda3/envs/nlim/lib/python3.10/site-packages/gpytorch/kernels/inducing_point_kernel.py:61: UserWarning: torch.triangular_solve is deprecated in favor of torch.linalg.solve_triangularand will be removed in a future PyTorch release.\n",
      "torch.linalg.solve_triangular has its arguments reversed and does not return a copy of one of the inputs.\n",
      "X = torch.triangular_solve(B, A).solution\n",
      "should be replaced with\n",
      "X = torch.linalg.solve_triangular(A, B). (Triggered internally at  /opt/conda/conda-bld/pytorch_1656352645774/work/aten/src/ATen/native/BatchLinearAlgebra.cpp:2183.)\n",
      "  inv_root = torch.triangular_solve(eye, chol)[0]\n"
     ]
    }
   ],
   "source": [
    "pred_dist = model.predict(xt.to(\"cuda\"))\n",
    "# print(\"Done \", i)/"
   ]
  },
  {
   "cell_type": "code",
   "execution_count": 15,
   "metadata": {},
   "outputs": [],
   "source": [
    "y_mean = pred_dist.loc"
   ]
  },
  {
   "cell_type": "code",
   "execution_count": 16,
   "metadata": {},
   "outputs": [
    {
     "name": "stdout",
     "output_type": "stream",
     "text": [
      "torch.Size([15656]) (15656,)\n"
     ]
    }
   ],
   "source": [
    "y_mean = scalers[1].inverse_transform(y_mean.cpu().reshape(-1,1)).squeeze()\n",
    "# y_sigma = scaler_y.inverse_transform(y_sigma.reshape(-1,1)).squeeze()\n",
    "print(yt.shape, y_mean.shape)"
   ]
  },
  {
   "cell_type": "code",
   "execution_count": 17,
   "metadata": {},
   "outputs": [],
   "source": [
    "y_mean = np.clip(y_mean,0,y_mean.max(),out=y_mean)"
   ]
  },
  {
   "cell_type": "code",
   "execution_count": 18,
   "metadata": {},
   "outputs": [
    {
     "data": {
      "text/plain": [
       "tensor(84.2405, dtype=torch.float64)"
      ]
     },
     "execution_count": 18,
     "metadata": {},
     "output_type": "execute_result"
    }
   ],
   "source": [
    "mae = torch.abs(torch.tensor(y_mean) - yt).mean(dim=-1)\n",
    "mae"
   ]
  },
  {
   "cell_type": "code",
   "execution_count": 19,
   "metadata": {},
   "outputs": [],
   "source": [
    "x2 =  x_test_features[:,1].reshape(-1,1)"
   ]
  },
  {
   "cell_type": "code",
   "execution_count": 20,
   "metadata": {},
   "outputs": [
    {
     "data": {
      "text/plain": [
       "tensor(41.1459, dtype=torch.float64)"
      ]
     },
     "execution_count": 20,
     "metadata": {},
     "output_type": "execute_result"
    }
   ],
   "source": [
    "from math import pi\n",
    "var_pred = pred_dist.variance\n",
    "var_pred = scalers[1].inverse_transform(var_pred.reshape(-1,1).detach().cpu()).squeeze()\n",
    "# msll = mean_standardized_log_loss(torch.ensor(y_mean), yt)\n",
    "f_var= torch.tensor(var_pred)\n",
    "f_mean = torch.tensor(y_mean)\n",
    "msll = 0.5 * (torch.log(2 * pi * f_var) + torch.square(yt - f_mean) / (2 * f_var)).mean(dim=-1)\n",
    "msll"
   ]
  },
  {
   "cell_type": "code",
   "execution_count": 23,
   "metadata": {},
   "outputs": [
    {
     "data": {
      "text/plain": [
       "tensor(0.0303)"
      ]
     },
     "execution_count": 23,
     "metadata": {},
     "output_type": "execute_result"
    }
   ],
   "source": [
    "quantile = 95.0\n",
    "standard_normal = torch.distributions.Normal(loc=0.0, scale=1.0)\n",
    "deviation = standard_normal.icdf(torch.as_tensor(0.5 + 0.5 * (quantile / 100)))\n",
    "std_pred = pred_dist.stddev\n",
    "std_pred = torch.tensor(scalers[1].inverse_transform(std_pred.reshape(-1,1).detach().cpu()).squeeze())\n",
    "lower = torch.tensor(y_mean) - deviation * std_pred \n",
    "upper = torch.tensor(y_mean) + deviation * std_pred \n",
    "n_samples_within_bounds = ((yt > lower) * (yt < upper)).sum(-1)\n",
    "fraction = n_samples_within_bounds / yt.shape[-1]\n",
    "qce = torch.abs(fraction - quantile / 100)\n",
    "qce"
   ]
  },
  {
   "cell_type": "markdown",
   "metadata": {},
   "source": [
    "## Calibration Plot"
   ]
  },
  {
   "cell_type": "code",
   "execution_count": 24,
   "metadata": {},
   "outputs": [],
   "source": [
    "# from utilities import plot\n",
    "\n",
    "import seaborn as sns\n",
    "import matplotlib.pyplot as plt\n",
    "import pandas as pd\n",
    "import scipy.stats as st\n",
    "import jax.numpy as jnp\n",
    "from sklearn.metrics import brier_score_loss\n",
    "from probml_utils import is_latexify_enabled\n",
    "\n",
    "\n",
    "def calibration_regression(mean, sigma, Y,label, color, ax=None):\n",
    "    \"\"\"\n",
    "    mean : (n_samples,1) or (n_sample,) prediction mean \n",
    "    sigma : (n_samples,1) or (n_sample,) prediction sigma \n",
    "    Y : (n_samples,1) or (n_sample,) Y co-ordinate of ground truth \n",
    "    label :  string, \n",
    "    \n",
    "    \n",
    "    \"\"\"\n",
    "\n",
    "    marker_size = 6 if is_latexify_enabled else None\n",
    "    if ax is None:\n",
    "        fig, ax = plt.subplots()\n",
    "    df = pd.DataFrame()\n",
    "    df[\"mean\"] = mean\n",
    "    df[\"sigma\"] = sigma\n",
    "    df[\"Y\"] = Y\n",
    "    df[\"z\"] = (df[\"Y\"] - df[\"mean\"]) / df[\"sigma\"]\n",
    "    df[\"perc\"] = st.norm.cdf(df[\"z\"])\n",
    "    k = jnp.arange(0, 1.1, 0.1)\n",
    "    counts = []\n",
    "    df2 = pd.DataFrame()\n",
    "    df2[\"Interval\"] = k\n",
    "    df2[\"Ideal\"] = k\n",
    "    for i in range(0, 11):\n",
    "        l = df[df[\"perc\"] < 0.5 + i * 0.05]\n",
    "        l = l[l[\"perc\"] >= 0.5 - i * 0.05]\n",
    "        counts.append(len(l) / len(df))\n",
    "    df2[\"Counts\"] = counts\n",
    "\n",
    "    ax.plot(k, counts, color=color, label=label)\n",
    "\n",
    "    ax.scatter(k, counts, color=color,s=marker_size)\n",
    "    ax.scatter(k, k,color=\"green\",s=marker_size)\n",
    "    ax.set_yticks(k)\n",
    "    ax.set_xticks(k)\n",
    "    ax.set_xlim([0,1])\n",
    "    ax.set_ylim([0,1])\n",
    "    # ax.legend()\n",
    "    ax.set_xlabel(\"decile\")\n",
    "    ax.set_ylabel(\"ratio of points\")\n",
    "    ax.plot(k, k, color=\"green\")\n",
    "    sns.despine()\n",
    "    return df, df2"
   ]
  },
  {
   "cell_type": "code",
   "execution_count": 26,
   "metadata": {},
   "outputs": [
    {
     "name": "stdout",
     "output_type": "stream",
     "text": [
      "saving image to ./Figures/Features_linear_bias_calibration_latexified.pdf\n",
      "Figure size: [2.4  1.75]\n"
     ]
    },
    {
     "data": {
      "image/png": "[encoded data removed]",
      "text/plain": [
       "<Figure size 172.8x126 with 1 Axes>"
      ]
     },
     "metadata": {
      "needs_background": "light"
     },
     "output_type": "display_data"
    }
   ],
   "source": [
    "fig, ax = plt.subplots(1)\n",
    "latexify(width_scale_factor=2.5, fig_height=1.75)\n",
    "sigma_pred = jnp.sqrt(var_pred)\n",
    "df, df1 = calibration_regression(y_mean.squeeze(), sigma_pred.squeeze(), \n",
    "                                     yt.squeeze(), \"test\", \"r\", ax)\n",
    "ax.legend()\n",
    "savefig(\"Features_linear_bias_calibration\")\n"
   ]
  },
  {
   "cell_type": "code",
   "execution_count": 27,
   "metadata": {},
   "outputs": [],
   "source": [
    "import numpy as np\n",
    "from scipy.stats import norm\n",
    "import matplotlib.pyplot as plt\n",
    "import pandas as pd\n",
    "import jax\n",
    "import jax.numpy as jnp\n",
    "\n",
    "def ace(ideal,predicted):\n",
    "    \"\"\"\n",
    "    dataframe : pandas dataframe with Ideal and Counts as column for regression calibration\n",
    "    It can be directly used as 2nd output from calibration_regression in plot.py \n",
    "    \"\"\"\n",
    "    def rmse_loss(y,yhat):\n",
    "      return jnp.abs(y-yhat)\n",
    "    return jnp.mean(jax.vmap(rmse_loss,in_axes=(0,0))(ideal,predicted))\n",
    "    \n",
    "def mass_to_std_factor(mass=0.95):\n",
    "    rv = norm(0.0, 1.0)\n",
    "    std_factor = rv.ppf((1.0 + mass) / 2)\n",
    "    return std_factor\n",
    "\n",
    "def plot_find_p(y,mean_prediction, std_prediction, mass=0.95):\n",
    "    std_factor = mass_to_std_factor(mass)\n",
    "    idx = np.where(\n",
    "        (y < mean_prediction + std_factor * std_prediction)\n",
    "        & (y > mean_prediction - std_factor * std_prediction)\n",
    "    )[0]\n",
    "\n",
    "    p_hat = len(idx) / len(y)\n",
    "    return (mass, p_hat)\n",
    "\n",
    "def find_p_hat(y, mean_prediction,std_prediction):\n",
    "    out = {}\n",
    "    for mass in np.linspace(1e-10, 1-1e-20, 1000):\n",
    "    #for mass in jnp.arange(0, 1.1, 0.1):\n",
    "        out[mass] = plot_find_p(y, mean_prediction,std_prediction, mass)[1]\n",
    "    df = pd.Series(out).to_frame()\n",
    "    # print(df)\n",
    "    df.index.name = 'p'\n",
    "    df.columns = ['p_hat']\n",
    "\n",
    "    return df"
   ]
  },
  {
   "cell_type": "code",
   "execution_count": 28,
   "metadata": {},
   "outputs": [],
   "source": [
    "cal= find_p_hat(np.array(yt),y_mean,sigma_pred)\n",
    "p=cal.index"
   ]
  },
  {
   "cell_type": "code",
   "execution_count": 29,
   "metadata": {},
   "outputs": [
    {
     "data": {
      "text/plain": [
       "DeviceArray(0.48648366, dtype=float32)"
      ]
     },
     "execution_count": 29,
     "metadata": {},
     "output_type": "execute_result"
    }
   ],
   "source": [
    "# p.values,series_train.values\n",
    "mae = ace(p.values, cal.values)\n",
    "mae"
   ]
  },
  {
   "cell_type": "code",
   "execution_count": 24,
   "metadata": {},
   "outputs": [
    {
     "name": "stdout",
     "output_type": "stream",
     "text": [
      "saving image to ./Figures/features_bias_latexified.pdf\n",
      "Figure size: [3.   1.75]\n"
     ]
    },
    {
     "data": {
      "text/plain": [
       "<Figure size 216x126 with 0 Axes>"
      ]
     },
     "metadata": {},
     "output_type": "display_data"
    },
    {
     "data": {
      "image/png": "[encoded data removed]",
      "text/plain": [
       "<Figure size 216x126 with 1 Axes>"
      ]
     },
     "metadata": {
      "needs_background": "light"
     },
     "output_type": "display_data"
    }
   ],
   "source": [
    "idx = 300 #x2.shape[0]\n",
    "start = 4170\n",
    "time_plot = scalers[2].inverse_transform(x_test_timestamp.reshape(-1,1))\n",
    "x1 = x_test_features[:,0].reshape(-1,1)\n",
    "plt.figure()\n",
    "latexify(width_scale_factor=2, fig_height=1.75)\n",
    "df = pd.read_csv(\"time_stamp.csv\", index_col=0)\n",
    "df.index = df[\"0\"]\n",
    "df.index = pd.to_datetime(df.index)\n",
    "df.index.name = \"Time\"\n",
    "df = df.drop(columns=[\"0\"])\n",
    "df[\"Main Power\"] = scalers[3].inverse_transform(x1)\n",
    "df[\"Ground Truth\"] = yt.cpu()\n",
    "df[\"Prediction\"] = y_mean\n",
    "df[start:start+idx].plot(rot=90, legend=False)\n",
    "plt.fill_between(df.index[start : start + idx], y_mean[start : start + idx].flatten() - 1.96*np.sqrt(var_pred[start : start + idx]).flatten(),  y_mean[start : start + idx].flatten() + 1.96*np.sqrt(var_pred[start : start + idx]).flatten(),  color='lightblue', alpha=1.0, label = \"CI (95\\%) \")\n",
    "sns.despine()\n",
    "# df.plot.( rotation=90)\n",
    "# plt.legend(frameon=False, bbox_to_anchor=(0.55, 0.45), prop={'size': 7})\n",
    "# df.head()\n",
    "plt.ylabel(\"Power\")\n",
    "savefig(\"features_bias\")"
   ]
  },
  {
   "cell_type": "code",
   "execution_count": null,
   "metadata": {},
   "outputs": [],
   "source": []
  }
 ],
 "metadata": {
  "kernelspec": {
   "display_name": "Python 3.10.4 ('nlim')",
   "language": "python",
   "name": "python3"
  },
  "language_info": {
   "codemirror_mode": {
    "name": "ipython",
    "version": 3
   },
   "file_extension": ".py",
   "mimetype": "text/x-python",
   "name": "python",
   "nbconvert_exporter": "python",
   "pygments_lexer": "ipython3",
   "version": "3.10.4"
  },
  "orig_nbformat": 4,
  "vscode": {
   "interpreter": {
    "hash": "4a19952a8cb0d513e360355f3718fc7b5b0ccef7313ddd97e7b7ab66b1ecfbb8"
   }
  }
 },
 "nbformat": 4,
 "nbformat_minor": 2
}
