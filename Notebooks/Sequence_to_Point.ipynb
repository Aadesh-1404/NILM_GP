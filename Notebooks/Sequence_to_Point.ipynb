{
 "cells": [
  {
   "cell_type": "code",
   "execution_count": 1,
   "metadata": {},
   "outputs": [],
   "source": [
    "import os\n",
    "os.chdir(\"../\")\n",
    "os.environ[\"CUDA_VISIBLE_DEVICES\"] = \"1\""
   ]
  },
  {
   "cell_type": "code",
   "execution_count": 2,
   "metadata": {},
   "outputs": [],
   "source": [
    "import torch\n",
    "from gpytorch.kernels import RBFKernel, ScaleKernel, PeriodicKernel, MaternKernel, CosineKernel, LinearKernel\n",
    "from skgpytorch.models import SVGPRegressor, SGPRegressor"
   ]
  },
  {
   "cell_type": "code",
   "execution_count": 3,
   "metadata": {},
   "outputs": [],
   "source": [
    "import jax.numpy as jnp\n",
    "import pandas as pd\n",
    "from sklearn.preprocessing import StandardScaler\n",
    "import matplotlib.pyplot as plt\n",
    "import seaborn as sns\n",
    "# from utilities.fits import fit\n",
    "# from utilities import plot\n",
    "import tensorflow_probability.substrates.jax as tfp\n",
    "dist = tfp.distributions\n",
    "import pandas as pd\n",
    "import jax.numpy as jnp\n",
    "from datetime import datetime\n",
    "from sklearn.preprocessing import StandardScaler\n",
    "from gpytorch.constraints import GreaterThan\n",
    "from skgpytorch.metrics import mean_squared_error, negative_log_predictive_density\n",
    "import time\n",
    "import numpy as np\n",
    "\n",
    "# from datasets.dataset_load import dataset_loader\n",
    "# from utilities import plot,fits,gmm,errors,predict,preprocess\n",
    "\n",
    "# device = \"cpu\"\n",
    "# torch.set_default_dtype(torch.float32)\n",
    "# torch.set_default_tensor_type(torch.FloatTensor)\n"
   ]
  },
  {
   "cell_type": "code",
   "execution_count": 4,
   "metadata": {},
   "outputs": [],
   "source": [
    "import pandas as pd\n",
    "import jax.numpy as jnp\n",
    "from datetime import datetime\n",
    "from sklearn.preprocessing import StandardScaler\n",
    "\n",
    "\n",
    "def dataset_load(appliances, train, test=None, linear = False, bias = False):\n",
    "    x_train = []\n",
    "    y_train = []\n",
    "    train_range = []\n",
    "    x_train_timestamp = []\n",
    "    n = 99\n",
    "    units_to_pad = n // 2\n",
    "    scaler_x = StandardScaler()\n",
    "    scaler_y = StandardScaler()\n",
    "    scaler_time = StandardScaler()\n",
    "    scaler_range = StandardScaler()\n",
    "\n",
    "    # train\n",
    "    for key, values in train.items():\n",
    "        for app in range(len(appliances)):\n",
    "            df = pd.read_csv(\n",
    "                f\"Data/Building{key}_NILM_data_basic.csv\", usecols=[\"Timestamp\", \"main\", appliances[app]])\n",
    "            df[\"date\"] = pd.to_datetime(df[\"Timestamp\"]).dt.date\n",
    "            startDate = datetime.strptime(values[\"start_time\"], \"%Y-%m-%d\").date()\n",
    "            endDate = datetime.strptime(values[\"end_time\"], \"%Y-%m-%d\").date()\n",
    "\n",
    "            if startDate > endDate:\n",
    "                raise \"Start Date must be smaller than Enddate.\"\n",
    "\n",
    "            df = df[(df[\"date\"] >= startDate) & (df[\"date\"] <= endDate)]\n",
    "            df.dropna(inplace=True)\n",
    "            if app == 0:\n",
    "                x = df[appliances[app]].values\n",
    "            else:\n",
    "                x += df[appliances[app]].values\n",
    "            if appliances[app] == \"Refrigerator\":\n",
    "                y = df[appliances[app]].values\n",
    "      \n",
    "        timestamp_train = (pd.to_datetime(df[\"Timestamp\"]).astype(int)/ 10**18).values\n",
    "        x = jnp.pad(x, (units_to_pad, units_to_pad),\n",
    "                    'constant', constant_values=(0, 0))\n",
    "        x = jnp.array([x[i: i + n] for i in range(len(x) - n + 1)])\n",
    "        x_train.extend(x)\n",
    "        y_train.extend(y)\n",
    "        train_range.extend(jnp.max(x, axis=1)-jnp.min(x, axis=1))\n",
    "        x_train_timestamp.extend(torch.tensor(timestamp_train))\n",
    "\n",
    "\n",
    "    x_train = jnp.array(x_train)\n",
    "    y_train = jnp.array(y_train).reshape(-1, 1)\n",
    "    x_train_timestamp = torch.tensor(x_train_timestamp).reshape(-1,1)\n",
    "    x_train_range = jnp.array(train_range).reshape(-1, 1)\n",
    "\n",
    "    x_train = scaler_x.fit_transform(x_train)\n",
    "    y_train = scaler_y.fit_transform(y_train)\n",
    "    x_train_timestamp = scaler_time.fit_transform(x_train_timestamp)\n",
    "    x_train_range = scaler_range.fit_transform(x_train_range)\n",
    "\n",
    "\n",
    "    # test\n",
    "    x_test = []\n",
    "    y_test = []\n",
    "    test_range = []\n",
    "    x_test_timestamp = []\n",
    "    x_test_timestamp_true =[]\n",
    "    for key, values in test.items():\n",
    "        for app in range(len(appliances)):\n",
    "            df = pd.read_csv(\n",
    "                f\"Data/Building{key}_NILM_data_basic.csv\", usecols=[\"Timestamp\", \"main\", appliances[app]])\n",
    "            df[\"date\"] = pd.to_datetime(df[\"Timestamp\"]).dt.date\n",
    "            startDate = datetime.strptime(values[\"start_time\"], \"%Y-%m-%d\").date()\n",
    "            endDate = datetime.strptime(values[\"end_time\"], \"%Y-%m-%d\").date()\n",
    "\n",
    "            if startDate > endDate:\n",
    "                raise \"Start Date must be smaller than Enddate.\"\n",
    "\n",
    "            df = df[(df[\"date\"] >= startDate) & (df[\"date\"] <= endDate)]\n",
    "            df.dropna(inplace=True)\n",
    "            if app == 0:\n",
    "                    x = df[appliances[app]].values\n",
    "            else:\n",
    "                x += df[appliances[app]].values\n",
    "            if appliances[app] == \"Refrigerator\":\n",
    "                y = df[appliances[app]].values\n",
    "        \n",
    "        if (bias == True):\n",
    "            x =  x + 100*np.ones(x.shape[0])\n",
    "        timestamp_true = df[\"Timestamp\"].values\n",
    "        timestamp = (pd.to_datetime(df[\"Timestamp\"]).astype(int)/ 10**18).values\n",
    "        x = jnp.pad(x, (units_to_pad, units_to_pad),\n",
    "                    'constant', constant_values=(0, 0))\n",
    "        x = jnp.array([x[i: i + n] for i in range(len(x) - n + 1)])\n",
    "        x_test.extend(x)\n",
    "        y_test.extend(y)\n",
    "        test_range.append(jnp.max(x, axis=1)-jnp.min(x, axis=1))\n",
    "        x_test_timestamp_true.extend(timestamp_true)\n",
    "        x_test_timestamp.extend(timestamp)\n",
    "\n",
    "    x_test = jnp.array(x_test)\n",
    "    y_test = jnp.array(y_test).reshape(-1, 1)\n",
    "    x_test_timestamp = torch.tensor(x_test_timestamp).reshape(-1,1)\n",
    "    x_test_range = jnp.array(test_range).reshape(-1, 1)\n",
    "\n",
    "    x_test = scaler_x.transform(x_test)\n",
    "    x_test_timestamp = scaler_time.transform(x_test_timestamp)\n",
    "    x_test_range = scaler_range.transform(x_test_range)\n",
    "\n",
    "    x_train = jnp.array(x_train).reshape(x_train.shape[0], n)\n",
    "    y_train = jnp.array(y_train)\n",
    "    x_train_range = jnp.array(x_train_range)\n",
    "    x_train_timestamp = torch.tensor(x_train_timestamp).reshape(x_train_timestamp.shape[0], 1)\n",
    "    x_test = jnp.array(x_test).reshape(x_test.shape[0], n)\n",
    "    y_test = jnp.array(y_test)\n",
    "    x_test_timestamp = torch.tensor(x_test_timestamp).reshape(x_test_timestamp.shape[0], 1).to(torch.float64)\n",
    "    x_test_range = jnp.array(x_test_range).reshape(-1,1)\n",
    "\n",
    "    if (linear == True):\n",
    "        n = 100\n",
    "        x_train = jnp.concatenate((x_train, x_train_range), axis =1).reshape(x_train.shape[0],n)\n",
    "        x_test = jnp.concatenate((x_test, x_test_range), axis =1).reshape(x_test.shape[0],n)\n",
    "\n",
    "    return x_train, y_train, x_test, y_test, x_train_timestamp, x_test_timestamp, x_test_timestamp_true, scaler_x, scaler_y, scaler_time, scaler_range\n"
   ]
  },
  {
   "cell_type": "code",
   "execution_count": 5,
   "metadata": {},
   "outputs": [],
   "source": [
    "train ={1:{\n",
    "                    'start_time': \"2011-04-28\" ,\n",
    "                    'end_time': \"2011-05-15\"\n",
    "                }, 3: {\n",
    "                'start_time': \"2011-04-19\" ,\n",
    "                'end_time': \"2011-05-22\"\n",
    "            },\n",
    "                \n",
    "      \n",
    "                }\n",
    "test = {  2: {\n",
    "                    'start_time': \"2011-04-21\" ,\n",
    "                    'end_time': \"2011-05-21\"\n",
    "                },\n",
    "                }\n",
    "appliances = [\"Microwave\", \"Refrigerator\",  \"Dish Washer\"] #"
   ]
  },
  {
   "cell_type": "code",
   "execution_count": 6,
   "metadata": {},
   "outputs": [],
   "source": [
    "x_train, y_train, x_test, y_test, x_train_timestamp, x_test_timestamp, x_test_time_true, scaler_x, scaler_y, scaler_time, scaler_range = dataset_load(appliances, train, test, linear=False, bias=False)"
   ]
  },
  {
   "cell_type": "code",
   "execution_count": 7,
   "metadata": {},
   "outputs": [
    {
     "data": {
      "text/plain": [
       "((24918, 99), (15656, 99), (24918, 1), (15656, 1))"
      ]
     },
     "execution_count": 7,
     "metadata": {},
     "output_type": "execute_result"
    }
   ],
   "source": [
    "x_train.shape, x_test.shape, y_train.shape, y_test.shape"
   ]
  },
  {
   "cell_type": "code",
   "execution_count": 8,
   "metadata": {},
   "outputs": [],
   "source": [
    "x = torch.tensor(np.array(x_train)).to(torch.float32)\n",
    "y = torch.tensor(np.array(y_train)).reshape(-1,).to(torch.float32)\n",
    "xt = torch.tensor(np.array(x_test)).to(torch.float32)\n",
    "yt = torch.tensor(np.array(y_test)).reshape(-1,).to(torch.float32)"
   ]
  },
  {
   "cell_type": "code",
   "execution_count": null,
   "metadata": {},
   "outputs": [],
   "source": [
    "\n",
    "\n",
    "kernel1 = ScaleKernel(MaternKernel(nu=2.5,ard_num_dims=100 )) #nu=2.5,\n",
    "kernel2 = ScaleKernel(LinearKernel(active_dims = (99)))\n",
    "\n",
    "kernel = kernel1 + kernel2\n",
    "inducing_points =  x[np.arange(0,x.shape[0],20)] \n",
    "\n",
    "model = SGPRegressor(x.to(\"cuda\"), y.to(\"cuda\"), kernel,\n",
    "                      inducing_points).to(\"cuda\")\n",
    "\n",
    "loss = model.fit(lr=1e-2, n_epochs=1500,verbose=1,\n",
    "        random_state=0)\n",
    "\n",
    "plt.plot(np.asarray(loss[0]))\n",
    "\n",
    "\n",
    "  "
   ]
  },
  {
   "cell_type": "code",
   "execution_count": 9,
   "metadata": {},
   "outputs": [],
   "source": [
    "model_name = \"Seq_to_pt_final.pt\"\n",
    "torch.save(model.state_dict(), os.path.join(\n",
    "  \"Neurips/models\", model_name))"
   ]
  },
  {
   "cell_type": "code",
   "execution_count": 10,
   "metadata": {},
   "outputs": [
    {
     "data": {
      "text/plain": [
       "<All keys matched successfully>"
      ]
     },
     "execution_count": 10,
     "metadata": {},
     "output_type": "execute_result"
    }
   ],
   "source": [
    "\n",
    "kernel1 = ScaleKernel(MaternKernel(nu=2.5,ard_num_dims=99 )) #nu=2.5,\n",
    "kernel2 = ScaleKernel(LinearKernel(active_dims = (99)))\n",
    "\n",
    "\n",
    "kernel = kernel1 #+ kernel2# + kernel2*kernel3\n",
    "inducing_points =  x[np.arange(0,x.shape[0],20)] \n",
    "#x[torch.randperm(x.shape[0])[: batch]].to(\"cuda\")\n",
    "\n",
    "model = SGPRegressor(x.to(\"cuda\"), y.to(\"cuda\"), kernel,\n",
    "                       inducing_points).to(\"cuda\")\n",
    "\n",
    "model_name = \"Seq_to_pt_final.pt\"\n",
    "model.load_state_dict(torch.load(\n",
    "    os.path.join(\"./models\", model_name)))"
   ]
  },
  {
   "cell_type": "code",
   "execution_count": 11,
   "metadata": {},
   "outputs": [
    {
     "name": "stderr",
     "output_type": "stream",
     "text": [
      "/home/desai.aadesh/miniconda3/envs/nlim/lib/python3.10/site-packages/gpytorch/kernels/inducing_point_kernel.py:61: UserWarning: torch.triangular_solve is deprecated in favor of torch.linalg.solve_triangularand will be removed in a future PyTorch release.\n",
      "torch.linalg.solve_triangular has its arguments reversed and does not return a copy of one of the inputs.\n",
      "X = torch.triangular_solve(B, A).solution\n",
      "should be replaced with\n",
      "X = torch.linalg.solve_triangular(A, B). (Triggered internally at  /opt/conda/conda-bld/pytorch_1656352645774/work/aten/src/ATen/native/BatchLinearAlgebra.cpp:2183.)\n",
      "  inv_root = torch.triangular_solve(eye, chol)[0]\n"
     ]
    }
   ],
   "source": [
    "y_pred_arr =[]\n",
    "pred_dist = model.predict(xt.to(\"cuda\"))\n",
    "\n",
    "y_pred_arr.append(pred_dist.loc)"
   ]
  },
  {
   "cell_type": "code",
   "execution_count": 12,
   "metadata": {},
   "outputs": [],
   "source": [
    "y_pred_arr1 = []\n",
    "for i in range(len(y_pred_arr)):\n",
    "  y_pred_arr1.append(np.array(y_pred_arr[i].cpu()))"
   ]
  },
  {
   "cell_type": "code",
   "execution_count": 13,
   "metadata": {},
   "outputs": [
    {
     "name": "stdout",
     "output_type": "stream",
     "text": [
      "(15656, 1) (15656,)\n"
     ]
    }
   ],
   "source": [
    "y_mean = np.mean(y_pred_arr1, axis =0)\n",
    "# y_sigma = np.std(y_pred_arr1, axis=0)\n",
    "\n",
    "y_mean.shape#, y_sigma.shape\n",
    "\n",
    "y_mean = scaler_y.inverse_transform(y_mean.reshape(-1,1)).squeeze()\n",
    "# y_sigma = scaler_y.inverse_transform(y_sigma.reshape(-1,1)).squeeze()\n",
    "print(y_test.shape, y_mean.shape)\n",
    "\n",
    "y_mean = np.clip(y_mean,0,y_mean.max(),out=y_mean)"
   ]
  },
  {
   "cell_type": "code",
   "execution_count": 14,
   "metadata": {},
   "outputs": [
    {
     "data": {
      "text/plain": [
       "tensor(8.7645)"
      ]
     },
     "execution_count": 14,
     "metadata": {},
     "output_type": "execute_result"
    }
   ],
   "source": [
    "mae = torch.abs(torch.tensor(y_mean) - yt).mean(dim=-1)\n",
    "mae"
   ]
  },
  {
   "cell_type": "code",
   "execution_count": 15,
   "metadata": {},
   "outputs": [
    {
     "data": {
      "text/plain": [
       "tensor(5.2654, dtype=torch.float64)"
      ]
     },
     "execution_count": 15,
     "metadata": {},
     "output_type": "execute_result"
    }
   ],
   "source": [
    "from math import pi\n",
    "var_pred = pred_dist.variance\n",
    "var_pred = scaler_y.inverse_transform(var_pred.reshape(-1,1).detach().cpu()).squeeze()\n",
    "# msll = mean_standardized_log_loss(torch.ensor(y_mean), yt)\n",
    "f_var= torch.tensor(var_pred)\n",
    "f_mean = torch.tensor(y_mean)\n",
    "msll = 0.5 * (torch.log(2 * pi * f_var) + torch.square(yt - f_mean) / (2 * f_var)).mean(dim=-1)\n",
    "msll"
   ]
  },
  {
   "cell_type": "code",
   "execution_count": 16,
   "metadata": {},
   "outputs": [
    {
     "data": {
      "text/plain": [
       "tensor(0.0489)"
      ]
     },
     "execution_count": 16,
     "metadata": {},
     "output_type": "execute_result"
    }
   ],
   "source": [
    "quantile = 95.0\n",
    "standard_normal = torch.distributions.Normal(loc=0.0, scale=1.0)\n",
    "deviation = standard_normal.icdf(torch.as_tensor(0.5 + 0.5 * (quantile / 100)))\n",
    "std_pred = pred_dist.stddev\n",
    "std_pred = torch.tensor(scaler_y.inverse_transform(std_pred.reshape(-1,1).detach().cpu()).squeeze())\n",
    "lower = torch.tensor(y_mean) - deviation * std_pred \n",
    "upper = torch.tensor(y_mean) + deviation * std_pred \n",
    "n_samples_within_bounds = ((yt > lower) * (yt < upper)).sum(-1)\n",
    "fraction = n_samples_within_bounds / yt.shape[-1]\n",
    "qce = torch.abs(fraction - quantile / 100)\n",
    "qce"
   ]
  },
  {
   "cell_type": "code",
   "execution_count": 18,
   "metadata": {},
   "outputs": [
    {
     "data": {
      "image/png": "[encoded data removed]",
      "text/plain": [
       "<Figure size 720x360 with 1 Axes>"
      ]
     },
     "metadata": {
      "needs_background": "light"
     },
     "output_type": "display_data"
    }
   ],
   "source": [
    "idx = 500\n",
    "fig, ax = plt.subplots(1,1, figsize=(10,5)) \n",
    "start = 4000\n",
    "var_pred = pred_dist.variance\n",
    "var_pred = scaler_y.inverse_transform(var_pred.reshape(-1,1).detach().cpu()).squeeze()\n",
    "time_plot = scaler_time.inverse_transform(x_test_timestamp.cpu().reshape(-1,1))\n",
    "# latexify(width_scale_factor=2, fig_height=1.75)\n",
    "ax.plot(time_plot[start : start + idx], scaler_x.inverse_transform(xt[:,:99].cpu())[:,49][start : start + idx], label = \"Main Power\")\n",
    "ax.plot(time_plot[start : start + idx], yt.cpu()[start : start + idx], label = \"Ground Truth\")\n",
    "ax.plot(time_plot[start : start + idx], y_mean[start : start + idx], label = \"Prediction\")\n",
    "ax.fill_between(time_plot[start : start + idx].flatten(), y_mean[start : start + idx].flatten() - 1.96*np.sqrt(var_pred[start : start + idx]).flatten(),  y_mean[start : start + idx].flatten() + 1.96*np.sqrt(var_pred[start : start + idx]).flatten(),  color='lightblue', alpha=1.0, label = \"Confidence Interval 95%)\")\n",
    "ax.errorbar(time_plot[start : start + idx].flatten(), y_mean[start : start + idx].flatten(), yerr=np.sqrt(var_pred[start : start + idx]).flatten(), fmt='k*', label = \"error_bar\")\n",
    "plt.legend(frameon=False)\n",
    "ax.set_ylabel(\"Power\" )\n",
    "sns.despine()\n",
    "# plt.show()"
   ]
  },
  {
   "cell_type": "markdown",
   "metadata": {},
   "source": [
    "## Calibration"
   ]
  },
  {
   "cell_type": "code",
   "execution_count": 19,
   "metadata": {},
   "outputs": [],
   "source": [
    "# from utilities import plot\n",
    "\n",
    "import seaborn as sns\n",
    "import matplotlib.pyplot as plt\n",
    "import pandas as pd\n",
    "import scipy.stats as st\n",
    "import jax.numpy as jnp\n",
    "from sklearn.metrics import brier_score_loss\n",
    "from probml_utils import is_latexify_enabled\n",
    "\n",
    "\n",
    "def calibration_regression(mean, sigma, Y,label, color, ax=None):\n",
    "    \"\"\"\n",
    "    mean : (n_samples,1) or (n_sample,) prediction mean \n",
    "    sigma : (n_samples,1) or (n_sample,) prediction sigma \n",
    "    Y : (n_samples,1) or (n_sample,) Y co-ordinate of ground truth \n",
    "    label :  string, \n",
    "    \n",
    "    \n",
    "    \"\"\"\n",
    "\n",
    "    marker_size = 6 if is_latexify_enabled else None\n",
    "    if ax is None:\n",
    "        fig, ax = plt.subplots()\n",
    "    df = pd.DataFrame()\n",
    "    df[\"mean\"] = mean\n",
    "    df[\"sigma\"] = sigma\n",
    "    df[\"Y\"] = Y\n",
    "    df[\"z\"] = (df[\"Y\"] - df[\"mean\"]) / df[\"sigma\"]\n",
    "    df[\"perc\"] = st.norm.cdf(df[\"z\"])\n",
    "    k = jnp.arange(0, 1.1, 0.1)\n",
    "    counts = []\n",
    "    df2 = pd.DataFrame()\n",
    "    df2[\"Interval\"] = k\n",
    "    df2[\"Ideal\"] = k\n",
    "    for i in range(0, 11):\n",
    "        l = df[df[\"perc\"] < 0.5 + i * 0.05]\n",
    "        l = l[l[\"perc\"] >= 0.5 - i * 0.05]\n",
    "        counts.append(len(l) / len(df))\n",
    "    df2[\"Counts\"] = counts\n",
    "\n",
    "    ax.plot(k, counts, color=color, label=label)\n",
    "\n",
    "    ax.scatter(k, counts, color=color,s=marker_size)\n",
    "    ax.scatter(k, k,color=\"green\",s=marker_size)\n",
    "    ax.set_yticks(k)\n",
    "    ax.set_xticks(k)\n",
    "    ax.set_xlim([0,1])\n",
    "    ax.set_ylim([0,1])\n",
    "    # ax.legend()\n",
    "    ax.set_xlabel(\"decile\")\n",
    "    ax.set_ylabel(\"ratio of points\")\n",
    "    ax.plot(k, k, color=\"green\")\n",
    "    sns.despine()\n",
    "    return df, df2"
   ]
  },
  {
   "cell_type": "code",
   "execution_count": 20,
   "metadata": {},
   "outputs": [
    {
     "data": {
      "text/plain": [
       "<matplotlib.legend.Legend at 0x7f7ea7961d50>"
      ]
     },
     "execution_count": 20,
     "metadata": {},
     "output_type": "execute_result"
    },
    {
     "data": {
      "image/png": "[encoded data removed]",
      "text/plain": [
       "<Figure size 432x288 with 1 Axes>"
      ]
     },
     "metadata": {
      "needs_background": "light"
     },
     "output_type": "display_data"
    }
   ],
   "source": [
    "fig, ax = plt.subplots(1)\n",
    "sigma_pred = jnp.sqrt(var_pred)\n",
    "df, df1 = calibration_regression(y_mean.squeeze(), sigma_pred.squeeze(), \n",
    "                                     yt.squeeze(), \"test\", \"r\", ax)\n",
    "ax.legend()"
   ]
  },
  {
   "cell_type": "code",
   "execution_count": 21,
   "metadata": {},
   "outputs": [],
   "source": [
    "import numpy as np\n",
    "from scipy.stats import norm\n",
    "import matplotlib.pyplot as plt\n",
    "import pandas as pd\n",
    "import jax\n",
    "import jax.numpy as jnp\n",
    "\n",
    "def ace(ideal,predicted):\n",
    "    \"\"\"\n",
    "    dataframe : pandas dataframe with Ideal and Counts as column for regression calibration\n",
    "    It can be directly used as 2nd output from calibration_regression in plot.py \n",
    "    \"\"\"\n",
    "    def rmse_loss(y,yhat):\n",
    "      return jnp.abs(y-yhat)\n",
    "    return jnp.mean(jax.vmap(rmse_loss,in_axes=(0,0))(ideal,predicted))\n",
    "    \n",
    "def mass_to_std_factor(mass=0.95):\n",
    "    rv = norm(0.0, 1.0)\n",
    "    std_factor = rv.ppf((1.0 + mass) / 2)\n",
    "    return std_factor\n",
    "\n",
    "def plot_find_p(y,mean_prediction, std_prediction, mass=0.95):\n",
    "    std_factor = mass_to_std_factor(mass)\n",
    "    idx = np.where(\n",
    "        (y < mean_prediction + std_factor * std_prediction)\n",
    "        & (y > mean_prediction - std_factor * std_prediction)\n",
    "    )[0]\n",
    "\n",
    "    p_hat = len(idx) / len(y)\n",
    "    return (mass, p_hat)\n",
    "\n",
    "def find_p_hat(y, mean_prediction,std_prediction):\n",
    "    out = {}\n",
    "    for mass in np.linspace(1e-10, 1-1e-20, 1000):\n",
    "        out[mass] = plot_find_p(y, mean_prediction,std_prediction, mass)[1]\n",
    "    df = pd.Series(out).to_frame()\n",
    "    df.index.name = 'p'\n",
    "    df.columns = ['p_hat']\n",
    "\n",
    "    return df"
   ]
  },
  {
   "cell_type": "code",
   "execution_count": 22,
   "metadata": {},
   "outputs": [],
   "source": [
    "cal= find_p_hat(np.array(yt),y_mean,sigma_pred)\n",
    "p=cal.index"
   ]
  },
  {
   "cell_type": "code",
   "execution_count": 23,
   "metadata": {},
   "outputs": [
    {
     "data": {
      "text/plain": [
       "DeviceArray(0.49330074, dtype=float32)"
      ]
     },
     "execution_count": 23,
     "metadata": {},
     "output_type": "execute_result"
    }
   ],
   "source": [
    "mae = ace(p.values, cal.values)\n",
    "mae"
   ]
  },
  {
   "cell_type": "code",
   "execution_count": 18,
   "metadata": {},
   "outputs": [],
   "source": [
    "try:\n",
    "    from probml_utils import latexify, savefig, is_latexify_enabled\n",
    "except ModuleNotFoundError:\n",
    "    %pip install git+https://github.com/probml/probml-utils.git\n",
    "    from probml_utils import latexify, savefig, is_latexify_enabled\n",
    "\n",
    "os.environ[\"LATEXIFY\"] = \"1\"\n",
    "os.environ[\"FIG_DIR\"] = \"./Figures/\""
   ]
  },
  {
   "cell_type": "markdown",
   "metadata": {},
   "source": [
    "## Scatter"
   ]
  },
  {
   "cell_type": "code",
   "execution_count": 54,
   "metadata": {},
   "outputs": [
    {
     "data": {
      "text/plain": [
       "(torch.Size([15656, 99]), torch.float32)"
      ]
     },
     "execution_count": 54,
     "metadata": {},
     "output_type": "execute_result"
    }
   ],
   "source": [
    "# x_lin1 = jnp.sort(x_train_full, axis=1)\n",
    "# x_lin1.shape\n",
    "x_lin_max = 3000\n",
    "x_lin = np.linspace(0,x_lin_max,15656).reshape(-1,1) # + 100*np.ones(15656).reshape(-1,1)\n",
    "\n",
    "x_lin1 = np.array(x_lin).reshape(-1,1)\n",
    "for i in range(98):\n",
    "  x_lin1 = np.concatenate((x_lin1, x_lin), axis=1)\n",
    "\n",
    "# test_range = []\n",
    "# for i in range(15656):\n",
    "#   test_range.append(jnp.max(x_lin1[i], axis=0)-jnp.min(x_lin1[i], axis=0))\n",
    "# test_range = np.array(test_range)\n",
    "x_lin1.shape\n",
    "x_lin_scale = scaler_x.transform(x_lin1)\n",
    "x_new = torch.tensor(np.array(x_lin_scale)).to(torch.float32)\n",
    "# x_new = torch.cat((torch.tensor(x_lin_scale).reshape(-1,1).to(torch.float32), torch.tensor(x_test_timestamp).reshape(-1,1)),dim=1 ).to(torch.float32)\n",
    "x_new.shape, x_new.dtype"
   ]
  },
  {
   "cell_type": "code",
   "execution_count": 20,
   "metadata": {},
   "outputs": [],
   "source": [
    "# x_new = torch.cat((torch.tensor(np.array(x_lin_scale)),torch.tensor(scaler_range.transform(test_range)) )).to(torch.float32)\n",
    "# # x_new = torch.cat((torch.tensor(x_lin_scale).reshape(-1,1).to(torch.float32), torch.tensor(x_test_timestamp).reshape(-1,1)),dim=1 ).to(torch.float32)\n",
    "# x_new.shape, x_new.dtype"
   ]
  },
  {
   "cell_type": "code",
   "execution_count": 55,
   "metadata": {},
   "outputs": [],
   "source": [
    "pred_dist = model.predict(x_new.to(\"cuda\"))\n",
    "y_mean = pred_dist.loc \n",
    "y_mean = scaler_y.inverse_transform(y_mean.cpu().reshape(-1,1))"
   ]
  },
  {
   "cell_type": "code",
   "execution_count": 56,
   "metadata": {},
   "outputs": [
    {
     "data": {
      "text/plain": [
       "Text(0, 0.5, 'Train Appliance Power')"
      ]
     },
     "execution_count": 56,
     "metadata": {},
     "output_type": "execute_result"
    },
    {
     "data": {
      "image/png": "[encoded data removed]",
      "text/plain": [
       "<Figure size 216x108 with 1 Axes>"
      ]
     },
     "metadata": {
      "needs_background": "light"
     },
     "output_type": "display_data"
    }
   ],
   "source": [
    "plt.figure()\n",
    "latexify(width_scale_factor=2, fig_height=1.5)\n",
    "\n",
    "start = 0\n",
    "idx = 5000\n",
    "plt.plot(x_lin1[:,49], y_mean, 'k', label=\" Predicted Mean\", alpha=0.7)\n",
    "plt.scatter( scaler_x.inverse_transform(x_train_full)[:,49], scaler_y.inverse_transform(y_train.reshape(-1,1)), s = 6, label=\"Appliance Power\")\n",
    "plt.xlim(0,1500)\n",
    "sns.despine()\n",
    "plt.legend(bbox_to_anchor=(0.6, 0.6))\n",
    "plt.xlabel(\"Train Mains\")\n",
    "plt.ylabel(\"Train Appliance Power\")\n",
    "# plt.show()\n",
    "# savefig(\"Main_seq_vs_app_mean\")\n"
   ]
  },
  {
   "cell_type": "code",
   "execution_count": null,
   "metadata": {},
   "outputs": [],
   "source": [
    "x_lin_max = 3000\n",
    "x_lin = np.linspace(0,x_lin_max,15656) # + 100*np.ones(np.array(x_test).shape[0])\n",
    "x_lin_scale = scaler_x.transform(x_lin.reshape(-1,1)).flatten() \n",
    "\n",
    "x_new = torch.cat((torch.tensor(x_lin_scale).reshape(-1,1).to(torch.float32), torch.tensor(x_test_timestamp).reshape(-1,1)),dim=1 ).to(torch.float32)\n",
    "x_new.shape, x_new.dtype"
   ]
  },
  {
   "cell_type": "code",
   "execution_count": 28,
   "metadata": {},
   "outputs": [
    {
     "name": "stdout",
     "output_type": "stream",
     "text": [
      "saving image to ./Figures/Seq_to_point_plt2_latexified.pdf\n",
      "Figure size: [3.  1.5]\n"
     ]
    },
    {
     "data": {
      "text/plain": [
       "<Figure size 216x108 with 0 Axes>"
      ]
     },
     "metadata": {},
     "output_type": "display_data"
    },
    {
     "data": {
      "image/png": "[encoded data removed]",
      "text/plain": [
       "<Figure size 216x108 with 1 Axes>"
      ]
     },
     "metadata": {
      "needs_background": "light"
     },
     "output_type": "display_data"
    }
   ],
   "source": [
    "idx = 200 #x2.shape[0]\n",
    "start = 4800\n",
    "\n",
    "plt.figure()\n",
    "latexify(width_scale_factor=2, fig_height=1.5)\n",
    "df = pd.read_csv(\"time_stamp.csv\", index_col=0)\n",
    "df.index = df[\"0\"]\n",
    "df.index = pd.to_datetime(df.index)\n",
    "df.index.name = \"Time\"\n",
    "df = df.drop(columns=[\"0\"])\n",
    "df[\"Main Power\"] =  scaler_x.inverse_transform(xt[:,0:99])[:,49]\n",
    "df[\"Ground Truth\"] = y_test\n",
    "df[\"Prediction\"] = y_mean\n",
    "df[start:start+idx].plot(rot=90)\n",
    "plt.fill_between(df.index[start : start + idx], y_mean[start : start + idx].flatten() - 1.96*np.sqrt(var_pred[start : start + idx]).flatten(),  y_mean[start : start + idx].flatten() + 1.96*np.sqrt(var_pred[start : start + idx]).flatten(),  color='lightblue', alpha=1.0, label = \"Confidence Interval 95%)\")\n",
    "sns.despine()\n",
    "# df.plot.( rotation=90)\n",
    "plt.legend(frameon=False, bbox_to_anchor=(0.5, 0.3))\n",
    "# df.head()\n",
    "plt.ylabel(\"Power\")\n",
    "savefig(\"Seq_to_point_plt2\")"
   ]
  },
  {
   "cell_type": "code",
   "execution_count": 18,
   "metadata": {},
   "outputs": [
    {
     "name": "stdout",
     "output_type": "stream",
     "text": [
      "saving image to Neurips/Plots/Seq_to_point_main_power_seq__added100_linear_plt_latexified.pdf\n",
      "Figure size: [3.   1.75]\n"
     ]
    },
    {
     "data": {
      "image/png": "[encoded data removed]",
      "text/plain": [
       "<Figure size 216x126 with 1 Axes>"
      ]
     },
     "metadata": {
      "needs_background": "light"
     },
     "output_type": "display_data"
    }
   ],
   "source": [
    "# idx = 500\n",
    "# start = 4000\n",
    "# plt.figure()\n",
    "# time_plot = scaler_time.inverse_transform(x_test_timestamp.reshape(-1,1))\n",
    "# latexify(width_scale_factor=2, fig_height=1.75)\n",
    "# plt.plot(time_plot[start : start + idx], scaler_x.inverse_transform(xt[:,0:99])[:,49][start : start + idx], label = \"Main Power\")\n",
    "# plt.plot(time_plot[start : start + idx], y_test[start : start + idx], label = \"Ground Truth\")\n",
    "# plt.plot(time_plot[start : start + idx], y_mean[start : start + idx], label = \"Prediction\")\n",
    "# # plt.legend(frameon=False, bbox_to_anchor=(0.6, 0.9))\n",
    "# plt.xlabel(\"Time\")\n",
    "# plt.ylabel(\"Power\")\n",
    "# sns.despine()\n",
    "# # plt.show()\n",
    "# savefig(\"Seq_to_point_main_power_seq__a_linear_plt\")"
   ]
  },
  {
   "cell_type": "code",
   "execution_count": 37,
   "metadata": {},
   "outputs": [
    {
     "name": "stdout",
     "output_type": "stream",
     "text": [
      "mll.likelihood.noise_covar.raw_noise Parameter containing:\n",
      "tensor([-4.0766], device='cuda:0', requires_grad=True)\n",
      "mll.model.mean_module.constant Parameter containing:\n",
      "tensor([0.8700], device='cuda:0', requires_grad=True)\n",
      "mll.model.base_covar_module.raw_outputscale Parameter containing:\n",
      "tensor(-2.5899, device='cuda:0', requires_grad=True)\n",
      "mll.model.base_covar_module.base_kernel.raw_lengthscale Parameter containing:\n",
      "tensor([[10.4251, 10.8671, 11.2113, 11.2482, 11.2213, 11.3358, 11.2443, 11.4213,\n",
      "         11.6552, 11.6334, 11.7098, 11.4688, 11.5728, 11.4793, 11.4923, 11.6508,\n",
      "         11.8268, 11.9869, 11.7231, 11.9634, 11.8792, 11.9776, 12.0374, 12.1292,\n",
      "         12.1015, 12.1548, 12.1259, 12.0086, 12.0525, 12.0732, 12.0210, 11.6221,\n",
      "         11.8350, 11.9144, 11.9817, 11.5319, 11.4422, 11.4816, 11.4924, 11.5062,\n",
      "         11.4141, 11.4433, 11.4957, 11.4067, 11.4078, 11.1971, 11.1387,  9.9038,\n",
      "          8.8081, -0.1963,  6.7484, 11.8245, 12.2235, 12.3450, 12.8252, 12.1872,\n",
      "         12.1993, 12.0396, 12.1630, 11.7547, 11.5037, 11.1481, 11.4272, 11.5192,\n",
      "         11.4625, 11.7511, 11.4192, 11.2371, 11.6814, 11.8072, 11.7867, 11.9044,\n",
      "         12.2247, 12.2645, 12.2657, 11.9786, 11.9037, 11.9792, 11.9128, 11.7109,\n",
      "         12.0113, 12.0382, 11.9002, 11.5900, 10.9798, 11.7662, 11.2211, 11.6867,\n",
      "         11.5052, 11.4465, 11.4364, 11.4566, 11.3606, 11.3861, 11.5726, 11.5023,\n",
      "         11.0483, 10.5532,  9.8005]], device='cuda:0', requires_grad=True)\n",
      "mll.model.covar_module.inducing_points Parameter containing:\n",
      "tensor([[-0.2210, -0.2606, -0.2952,  ..., -0.1671, -0.1171, -0.0589],\n",
      "        [-0.2255, -0.1171, -0.1774,  ...,  9.6184, 11.4964, 11.0390],\n",
      "        [-0.3582, -0.3827, -0.3867,  ...,  2.4514,  2.2701,  2.0963],\n",
      "        ...,\n",
      "        [-0.3314, -0.3764, -0.4131,  ..., -0.4002, -0.3857, -0.3721],\n",
      "        [ 0.1381,  0.1713,  0.2650,  ...,  0.2451,  0.2893,  0.3004],\n",
      "        [-0.4053, -0.4652, -0.4698,  ..., -0.0496,  0.0306,  0.1052]],\n",
      "       device='cuda:0', requires_grad=True)\n"
     ]
    }
   ],
   "source": [
    "for name, params in model.named_parameters():\n",
    "  print(name, params)"
   ]
  },
  {
   "cell_type": "code",
   "execution_count": 17,
   "metadata": {},
   "outputs": [
    {
     "name": "stdout",
     "output_type": "stream",
     "text": [
      "(99,)\n"
     ]
    },
    {
     "data": {
      "text/plain": [
       "Text(0, 0.5, 'Learned Lengthscale Values')"
      ]
     },
     "execution_count": 17,
     "metadata": {},
     "output_type": "execute_result"
    },
    {
     "data": {
      "image/png": "[encoded data removed]",
      "text/plain": [
       "<Figure size 432x288 with 1 Axes>"
      ]
     },
     "metadata": {
      "needs_background": "light"
     },
     "output_type": "display_data"
    }
   ],
   "source": [
    "ar = np.arange(0,99,1)\n",
    "print(ar.shape)\n",
    "plt.plot(ar,model.mll.model.base_covar_module.base_kernel.lengthscale.cpu().detach().numpy().reshape(-1,))\n",
    "plt.xlabel(\"# ARD\")\n",
    "plt.ylabel(\"Learned Lengthscale Values\")"
   ]
  }
 ],
 "metadata": {
  "kernelspec": {
   "display_name": "Python 3.10.4 ('nlim')",
   "language": "python",
   "name": "python3"
  },
  "language_info": {
   "codemirror_mode": {
    "name": "ipython",
    "version": 3
   },
   "file_extension": ".py",
   "mimetype": "text/x-python",
   "name": "python",
   "nbconvert_exporter": "python",
   "pygments_lexer": "ipython3",
   "version": "3.10.4"
  },
  "orig_nbformat": 4,
  "vscode": {
   "interpreter": {
    "hash": "4a19952a8cb0d513e360355f3718fc7b5b0ccef7313ddd97e7b7ab66b1ecfbb8"
   }
  }
 },
 "nbformat": 4,
 "nbformat_minor": 2
}
